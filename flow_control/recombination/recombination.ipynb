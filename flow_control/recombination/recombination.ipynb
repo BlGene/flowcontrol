{
 "cells": [
  {
   "cell_type": "markdown",
   "id": "49a75928",
   "metadata": {},
   "source": [
    "# Recombination"
   ]
  },
  {
   "cell_type": "code",
   "execution_count": null,
   "id": "29b9b55f",
   "metadata": {},
   "outputs": [],
   "source": [
    "import os\n",
    "import shutil\n",
    "import unittest\n",
    "import subprocess\n",
    "\n",
    "import cv2\n",
    "import ipdb\n",
    "import numpy as np\n",
    "\n",
    "from scipy.spatial.transform import Rotation as R\n",
    "\n",
    "from gym_grasping.envs.robot_sim_env import RobotSimEnv\n",
    "from flow_control.demo.demo_episode_recorder import record_sim\n",
    "from flow_control.flow_control_main import evaluate_control\n",
    "from flow_control.servoing.module import ServoingModule\n",
    "%matplotlib inline"
   ]
  },
  {
   "cell_type": "code",
   "execution_count": null,
   "id": "ff6b6cfa",
   "metadata": {},
   "outputs": [],
   "source": [
    "# Instantiate environment for the seed\n",
    "seed = 100\n",
    "env = RobotSimEnv(task='shape_sorting', renderer='egl', act_type='continuous',\n",
    "                  initial_pose='close', max_steps=500, control='absolute-full',\n",
    "                  img_size=(256, 256),\n",
    "                  sample_params=False,\n",
    "                  seed=seed)\n",
    "goal_im_path = '../frame_000074.jpg'\n",
    "rec_path = '../tmp_test_segmented/tmp_test'\n",
    "recordings_seg0 = [os.path.join(rec_path, rec) for rec in os.listdir(rec_path) if rec.endswith('seg0')]\n",
    "recordings_seg1 = [os.path.join(rec_path, rec) for rec in os.listdir(rec_path) if rec.endswith('seg1')]\n",
    "control_config = dict(mode=\"pointcloud-abs-rotz\", threshold=0.25)"
   ]
  },
  {
   "cell_type": "code",
   "execution_count": null,
   "id": "e87fadd5",
   "metadata": {},
   "outputs": [],
   "source": [
    "# Set up servo modules\n",
    "recordings_seg0 = sorted(recordings_seg0)\n",
    "servo_modules_seg0 = [(t, ServoingModule(t, control_config=control_config,\n",
    "                                    plot=False, save_dir=None)) for t in recordings_seg0]"
   ]
  },
  {
   "cell_type": "code",
   "execution_count": null,
   "id": "fa5ab394",
   "metadata": {},
   "outputs": [],
   "source": [
    "import matplotlib.pyplot as plt\n",
    "state, _, _, _ = env.step(None)\n",
    "live_rgb = state['rgb_gripper']\n",
    "goal_frame = cv2.imread(goal_im_path)\n",
    "plt.imshow(goal_frame)"
   ]
  },
  {
   "cell_type": "code",
   "execution_count": null,
   "id": "c55eeff1",
   "metadata": {},
   "outputs": [],
   "source": [
    "# Select demonstration either based on first frame or last frame\n",
    "def select_demo(servo_modules, live_rgb, goal_frame=None, use_goal=False):\n",
    "    \"\"\"\n",
    "    Selects the demonstration with the minimum reprojection error\n",
    "\n",
    "    Args:\n",
    "        servo_modules:\n",
    "        live_rgb: Array with the live view\n",
    "\n",
    "    Returns:\n",
    "        best_servo_module:\n",
    "    \"\"\"\n",
    "\n",
    "    best_task = None\n",
    "    best_servo_module = None\n",
    "    best_error = np.inf\n",
    "    errors_list = []\n",
    "\n",
    "    # Multipliers for Front and Rear errors\n",
    "    alpha, beta = 1.0, 1.0\n",
    "\n",
    "    for t, s in servo_modules:\n",
    "        error_front, error_rear = 0.0, 0.0\n",
    "        if use_goal:\n",
    "            last_rec_im = s.demo.steps[-5].cam.get_image()[0]\n",
    "            flow_rear = s.flow_module.step(goal_frame, last_rec_im)\n",
    "            warped_rear = s.flow_module.warp_image(goal_frame / 255.0, flow_rear)\n",
    "\n",
    "            demo_mask_rear = s.demo.fg_masks[-5]\n",
    "            mask_rear = np.zeros((256, 256))\n",
    "            mask_rear[demo_mask_rear == True] = 255.0\n",
    "            error_rear = ((warped_rear - (last_rec_im / 255.0))\n",
    "                          ** 2.0).sum(axis=2) * mask_rear\n",
    "\n",
    "            if mask_rear.sum() == 0.0:\n",
    "                error_rear = 2.0\n",
    "            else:\n",
    "                error_rear = error_rear.sum() / mask_rear.sum()\n",
    "        else:\n",
    "            first_rec_im = s.demo.steps[0].cam.get_image()[0]\n",
    "            flow_front = s.flow_module.step(live_rgb, first_rec_im)\n",
    "\n",
    "            warped_front = s.flow_module.warp_image(live_rgb / 255.0, flow_front)\n",
    "\n",
    "            # Logical demo mask\n",
    "            demo_mask_front = s.demo.fg_masks[0]\n",
    "            mask_front = np.zeros((256, 256))\n",
    "            mask_front[demo_mask_front == True] = 255.0\n",
    "\n",
    "            error_front = ((warped_front - (first_rec_im / 255.0))\n",
    "                           ** 2.0).sum(axis=2) * mask_front\n",
    "\n",
    "            if mask_front.sum() == 0.0:\n",
    "                error_front = 2.0\n",
    "            else:\n",
    "                error_front = error_front.sum() / mask_front.sum()\n",
    "\n",
    "        error = error_front * alpha + error_rear * beta\n",
    "        errors_list.append(error)\n",
    "\n",
    "        if error < best_error:\n",
    "            best_error = error\n",
    "            best_task = t\n",
    "            best_servo_module = s\n",
    "\n",
    "    return best_servo_module, best_task, errors_list"
   ]
  },
  {
   "cell_type": "code",
   "execution_count": null,
   "id": "e2ae539b",
   "metadata": {},
   "outputs": [],
   "source": [
    "_, _, errors_list_front = select_demo(servo_modules_seg0, live_rgb, goal_frame, use_goal=False)"
   ]
  },
  {
   "cell_type": "code",
   "execution_count": null,
   "id": "19859844",
   "metadata": {},
   "outputs": [],
   "source": [
    "del servo_modules_seg0"
   ]
  },
  {
   "cell_type": "code",
   "execution_count": null,
   "id": "bcc497d3",
   "metadata": {},
   "outputs": [],
   "source": [
    "recordings_seg1 = sorted(recordings_seg1)\n",
    "servo_modules_seg1 = [(t, ServoingModule(t, control_config=control_config,\n",
    "                                    plot=False, save_dir=None)) for t in recordings_seg1]"
   ]
  },
  {
   "cell_type": "code",
   "execution_count": null,
   "id": "6f01ae9c",
   "metadata": {},
   "outputs": [],
   "source": [
    "_, _, errors_list_rear = select_demo(servo_modules_seg1, live_rgb, goal_frame, use_goal=True)"
   ]
  },
  {
   "cell_type": "code",
   "execution_count": null,
   "id": "e7e6df1c",
   "metadata": {},
   "outputs": [],
   "source": [
    "del servo_modules_seg1"
   ]
  },
  {
   "cell_type": "code",
   "execution_count": null,
   "id": "bfd51c49",
   "metadata": {},
   "outputs": [],
   "source": [
    "res = sorted(range(len(errors_list_front)), key = lambda sub: errors_list_front[sub])[:5]\n",
    "best_recordings_front = [recordings_seg0[i] for i in res]\n",
    "\n",
    "print(best_recordings_front)"
   ]
  },
  {
   "cell_type": "code",
   "execution_count": null,
   "id": "a3175146",
   "metadata": {},
   "outputs": [],
   "source": [
    "res = sorted(range(len(errors_list_rear)), key = lambda sub: errors_list_rear[sub])[:5]\n",
    "best_recordings_rear = [sorted(recordings_seg1)[i] for i in res]\n",
    "\n",
    "print(best_recordings_rear)"
   ]
  },
  {
   "cell_type": "code",
   "execution_count": null,
   "id": "1a5c9a9b",
   "metadata": {},
   "outputs": [],
   "source": [
    "plt.imshow(live_rgb)"
   ]
  },
  {
   "cell_type": "code",
   "execution_count": null,
   "id": "a0caef08",
   "metadata": {},
   "outputs": [],
   "source": [
    "fig, ax = plt.subplots(5, 2, figsize=(20, 20))\n",
    "for idx, t in enumerate(best_recordings_front):\n",
    "    servo_module = ServoingModule(t, control_config=control_config, plot=False, save_dir=None)\n",
    "    first_frame = servo_module.demo.steps[0].cam.get_image()[0]\n",
    "    last_frame = servo_module.demo.steps[-1].cam.get_image()[0]\n",
    "    ax[idx, 0].imshow(first_frame)\n",
    "    ax[idx, 1].imshow(last_frame)\n",
    "    ax[idx, 0].set_axis_off()\n",
    "    ax[idx, 1].set_axis_off()"
   ]
  },
  {
   "cell_type": "code",
   "execution_count": null,
   "id": "dd41bc55",
   "metadata": {},
   "outputs": [],
   "source": [
    "fig, ax = plt.subplots(5, 2, figsize=(20, 20))\n",
    "for idx, t in enumerate(best_recordings_rear):\n",
    "    servo_module = ServoingModule(t, control_config=control_config, plot=False, save_dir=None)\n",
    "    first_frame = servo_module.demo.steps[0].cam.get_image()[0]\n",
    "    last_frame = servo_module.demo.steps[-1].cam.get_image()[0]\n",
    "    ax[idx, 0].imshow(first_frame)\n",
    "    ax[idx, 1].imshow(last_frame)\n",
    "    ax[idx, 0].set_axis_off()\n",
    "    ax[idx, 1].set_axis_off()"
   ]
  },
  {
   "cell_type": "markdown",
   "id": "5ab1684d",
   "metadata": {},
   "source": [
    "# Create Trajectory from source to destination"
   ]
  },
  {
   "cell_type": "code",
   "execution_count": null,
   "id": "3b61dd7e",
   "metadata": {},
   "outputs": [],
   "source": [
    "# Compute errors between last frame of all recordings in seg0 and first frame of all recordings in seg1\n",
    "compute = False\n",
    "rec_seg0 = sorted(recordings_seg0)\n",
    "rec_seg1 = sorted(recordings_seg1)\n",
    "\n",
    "if compute:\n",
    "    seg1_sm = [(t, ServoingModule(t, control_config=control_config,\n",
    "                                        plot=False, save_dir=None)) for t in rec_seg1]\n",
    "\n",
    "    error_matrix = []\n",
    "\n",
    "    for rec in rec_seg0:\n",
    "        # Extract last frame from this segment\n",
    "        rec_sm = ServoingModule(rec, control_config=control_config, plot=False, save_dir=None)\n",
    "        last_frame = rec_sm.demo.steps[-1].cam.get_image()[0]\n",
    "\n",
    "        # Compute all errors\n",
    "        _, _, errors = select_demo(seg1_sm, last_frame, use_goal=False)\n",
    "\n",
    "        # Append errors to error matrix\n",
    "        error_matrix.append(errors)\n",
    "\n",
    "        del rec_sm\n",
    "    del seg1_sm\n",
    "    error_matrix_arr = np.array(error_matrix)\n",
    "    np.savez('error_matrix.npz', error_matrix_arr)\n",
    "else:\n",
    "    error_matrix_arr = np.load('error_matrix.npz')['arr_0']"
   ]
  },
  {
   "cell_type": "code",
   "execution_count": null,
   "id": "48c0c8d4",
   "metadata": {},
   "outputs": [],
   "source": [
    "# Prepare data\n",
    "error_front = errors_list_front\n",
    "error_rear = errors_list_rear"
   ]
  },
  {
   "cell_type": "code",
   "execution_count": null,
   "id": "c91bded9",
   "metadata": {},
   "outputs": [],
   "source": [
    "# Now compute trajectory using error\n",
    "x, y = error_matrix_arr.shape\n",
    "best_error_fn1 = {'error': np.inf, 'idx1': -1, 'idx2': -1}\n",
    "best_error_fn2 = {'error': np.inf, 'idx1': -1, 'idx2': -1}\n",
    "\n",
    "for i in range(x):\n",
    "    for j in range(y):\n",
    "        total_error_fn1 = error_matrix_arr[i][j] + error_front[i] + error_rear[j]\n",
    "        total_error_fn2 = error_matrix_arr[i][j] * error_front[i] * error_rear[j]\n",
    "        \n",
    "        if total_error_fn1 < best_error_fn1['error']:\n",
    "            best_error_fn1['error'] = total_error_fn1\n",
    "            best_error_fn1['idx1'] = i\n",
    "            best_error_fn1['idx2'] = j\n",
    "            \n",
    "        if total_error_fn2 < best_error_fn2['error']:\n",
    "            best_error_fn2['error'] = total_error_fn2\n",
    "            best_error_fn2['idx1'] = i\n",
    "            best_error_fn2['idx2'] = j\n",
    "\n",
    "            \n",
    "print(best_error_fn1)\n",
    "print(best_error_fn2)\n",
    "\n",
    "print(rec_seg0[idx1], rec_seg1[idx2])"
   ]
  },
  {
   "cell_type": "code",
   "execution_count": null,
   "id": "2d2e27b4",
   "metadata": {},
   "outputs": [],
   "source": [
    "fig, ax = plt.subplots(1, 6, figsize=(20, 20))\n",
    "idx1 = best_error_fn1['idx1']\n",
    "idx2 = best_error_fn1['idx2']\n",
    "\n",
    "servo_module = ServoingModule(rec_seg0[idx1], control_config=control_config, plot=False, save_dir=None)\n",
    "seg0_firstframe = servo_module.demo.steps[0].cam.get_image()[0]\n",
    "seg0_lastframe = servo_module.demo.steps[-1].cam.get_image()[0]\n",
    "\n",
    "del servo_module\n",
    "\n",
    "servo_module = ServoingModule(rec_seg1[idx2], control_config=control_config, plot=False, save_dir=None)\n",
    "seg1_firstframe = servo_module.demo.steps[0].cam.get_image()[0]\n",
    "seg1_lastframe = servo_module.demo.steps[-1].cam.get_image()[0]\n",
    "    \n",
    "del servo_module\n",
    "\n",
    "for i in range(6):\n",
    "    ax[i].set_axis_off()\n",
    "\n",
    "ax[0].imshow(live_rgb)\n",
    "ax[1].imshow(seg0_firstframe)\n",
    "ax[2].imshow(seg0_lastframe)\n",
    "ax[3].imshow(seg1_firstframe)\n",
    "ax[4].imshow(seg1_lastframe)\n",
    "ax[5].imshow(goal_frame)\n",
    "\n"
   ]
  },
  {
   "cell_type": "code",
   "execution_count": null,
   "id": "d8e8ac01",
   "metadata": {},
   "outputs": [],
   "source": [
    "fig, ax = plt.subplots(1, 6, figsize=(20, 20))\n",
    "idx1 = best_error_fn2['idx1']\n",
    "idx2 = best_error_fn2['idx2']\n",
    "\n",
    "servo_module = ServoingModule(rec_seg0[idx1], control_config=control_config, plot=False, save_dir=None)\n",
    "seg0_firstframe = servo_module.demo.steps[0].cam.get_image()[0]\n",
    "seg0_lastframe = servo_module.demo.steps[-1].cam.get_image()[0]\n",
    "\n",
    "del servo_module\n",
    "\n",
    "servo_module = ServoingModule(rec_seg1[idx2], control_config=control_config, plot=False, save_dir=None)\n",
    "seg1_firstframe = servo_module.demo.steps[0].cam.get_image()[0]\n",
    "seg1_lastframe = servo_module.demo.steps[-1].cam.get_image()[0]\n",
    "    \n",
    "del servo_module\n",
    "\n",
    "for i in range(6):\n",
    "    ax[i].set_axis_off()\n",
    "\n",
    "ax[0].imshow(live_rgb)\n",
    "ax[1].imshow(seg0_firstframe)\n",
    "ax[2].imshow(seg0_lastframe)\n",
    "ax[3].imshow(seg1_firstframe)\n",
    "ax[4].imshow(seg1_lastframe)\n",
    "ax[5].imshow(goal_frame)\n",
    "\n"
   ]
  },
  {
   "cell_type": "code",
   "execution_count": null,
   "id": "bbc9db18",
   "metadata": {},
   "outputs": [],
   "source": []
  }
 ],
 "metadata": {
  "kernelspec": {
   "display_name": "robot",
   "language": "python",
   "name": "robot"
  },
  "language_info": {
   "codemirror_mode": {
    "name": "ipython",
    "version": 3
   },
   "file_extension": ".py",
   "mimetype": "text/x-python",
   "name": "python",
   "nbconvert_exporter": "python",
   "pygments_lexer": "ipython3",
   "version": "3.8.13"
  }
 },
 "nbformat": 4,
 "nbformat_minor": 5
}
