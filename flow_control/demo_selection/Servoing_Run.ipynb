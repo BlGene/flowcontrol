{
 "cells": [
  {
   "cell_type": "code",
   "execution_count": null,
   "id": "57f410b5",
   "metadata": {},
   "outputs": [],
   "source": [
    "import shutil\n",
    "from pathlib import Path\n",
    "\n",
    "import matplotlib.pyplot as plt\n",
    "from ipywidgets import widgets, interact, Layout\n",
    "\n",
    "from gym_grasping.envs.robot_sim_env import RobotSimEnv\n",
    "from flow_control.recombination.record_multi import get_configurations\n",
    "from flow_control.servoing.module import ServoingModule\n",
    "from flow_control.runner import evaluate_control\n",
    "\n",
    "renderer = \"debug\"\n",
    "root_dir = \"/tmp/flow_experiments3\"\n",
    "num_episodes = 20\n",
    "control_config = dict(mode=\"pointcloud-abs-rotz\", threshold=0.35)\n",
    "\n",
    "demo_cfgs = get_configurations(prefix=\"demo\", num_episodes=num_episodes)\n",
    "recordings = []\n",
    "for _, _, _, demo_seed, demo_dir in demo_cfgs:\n",
    "    recordings.append(demo_dir)\n",
    "    \n",
    "def eval_cmb(live_seed, demo_seed, exist_ok=False):\n",
    "    save_dir = f\"{root_dir}_{demo_seed:03d}\"\n",
    "    demo_dir = recordings[demo_seed]\n",
    "    if Path(save_dir).is_dir():\n",
    "        if exist_ok:\n",
    "            shutil.rmtree(save_dir)\n",
    "        else:\n",
    "            raise ValueError\n",
    "    servo_module = ServoingModule(demo_dir, control_config=control_config,\n",
    "                                  start_paused=False, plot=False, plot_save_dir=None)\n",
    "    env = RobotSimEnv(task='shape_sorting', renderer=renderer, act_type='continuous',\n",
    "                      initial_pose='close', max_steps=500, control='absolute-full',\n",
    "                      img_size=(256, 256), param_randomize=(\"geom\",), seed=live_seed)\n",
    "    _, reward, _, info = evaluate_control(env, servo_module,\n",
    "                                          max_steps=130,\n",
    "                                          save_dir=save_dir)\n",
    "    return reward, save_dir"
   ]
  },
  {
   "cell_type": "code",
   "execution_count": null,
   "id": "ad258fc1",
   "metadata": {},
   "outputs": [],
   "source": [
    "#live_seed, demo_seed = 3, 19\n",
    "live_seed, demo_seed = 5, 12\n",
    "reward, save_dir = eval_cmb(live_seed, demo_seed, exist_ok=True)\n",
    "print(f\"live_i {live_seed} demo_seed {demo_seed} -> reward {reward}\")"
   ]
  },
  {
   "cell_type": "markdown",
   "id": "f94707af",
   "metadata": {},
   "source": [
    "# Evaluate Multiple Combination\n",
    "\n",
    "For this copy over the data from the `Multi_Demo_Viewer.ipynb` notebook."
   ]
  },
  {
   "cell_type": "code",
   "execution_count": null,
   "id": "48e0b2fc",
   "metadata": {},
   "outputs": [],
   "source": [
    "live_episodes = [ 3,  4,  5,  6,  7,  8,  9, 10, 11, 12, 13, 14, 16, 18, 19]\n",
    "demo_episodes = [19,  8, 12, 19,  3, 16, 12,  3, 14, 16,  9, 16,  7, 10,  7]\n",
    "rewards = []\n",
    "\n",
    "for live_i, demo_i in zip(live_episodes, demo_episodes):\n",
    "    reward, _ = eval_cmb(live_i, demo_i, exist_ok=True)\n",
    "    rewards.append(reward)"
   ]
  },
  {
   "cell_type": "code",
   "execution_count": null,
   "id": "47068c82",
   "metadata": {},
   "outputs": [],
   "source": [
    "import numpy as np\n",
    "print(\"live \", np.array(live_episodes))\n",
    "print(\"demo \", np.array(demo_episodes))\n",
    "print(\"rew  \", np.array(rewards, dtype=int))\n",
    "print(\"mean:\", np.mean(rewards))\n",
    "\n",
    "print()\n",
    "print(\"failures:\")\n",
    "print(\"live\", np.array(live_episodes)[np.logical_not(rewards)])\n",
    "print(\"demo\", np.array(demo_episodes)[np.logical_not(rewards)])"
   ]
  },
  {
   "cell_type": "code",
   "execution_count": null,
   "id": "83a4cd52",
   "metadata": {},
   "outputs": [],
   "source": [
    "# Load the demonstration episodes\n",
    "from flow_control.servoing.playback_env_servo import PlaybackEnvServo\n",
    "playbacks = [PlaybackEnvServo(save_dir)]"
   ]
  },
  {
   "cell_type": "code",
   "execution_count": null,
   "id": "832e8035",
   "metadata": {},
   "outputs": [],
   "source": [
    "# Plot the demonstrations\n",
    "%matplotlib notebook\n",
    "fig, ax = plt.subplots(1,figsize=(8, 6))\n",
    "fig.suptitle(\"Servoing Frames\")\n",
    "ax.set_axis_off()\n",
    "image_h = ax.imshow(playbacks[0].cam.get_image()[0])\n",
    "\n",
    "def update(run_index, frame_index):\n",
    "    image = playbacks[run_index][frame_index].cam.get_image()[0]\n",
    "    image_h.set_data(image)\n",
    "    fig.canvas.draw_idle()\n",
    "    #print(\"wp_name:\", playbacks[run_index][frame_index].get_info()[\"wp_name\"])\n",
    "    fg_mask = playbacks[run_index].get_fg_mask()\n",
    "    if fg_mask is not None:\n",
    "        print(\"percent fg:\", np.mean(fg_mask)*100)\n",
    "    print(playbacks[run_index])\n",
    "    \n",
    "slider_w = widgets.IntSlider(min=0, max=len(playbacks)-1, step=1, value=0,\n",
    "                             layout=Layout(width='70%'))\n",
    "slider_i = widgets.IntSlider(min=0, max=200-1, step=1, value=0,\n",
    "                             layout=Layout(width='70%'))\n",
    "\n",
    "interact(update, run_index=slider_w, frame_index=slider_i)"
   ]
  },
  {
   "cell_type": "code",
   "execution_count": null,
   "id": "e082700c",
   "metadata": {},
   "outputs": [],
   "source": [
    "from collections import defaultdict\n",
    "print(\"num_steps\", len(playbacks[0]))\n",
    "\n",
    "servo_keys = [\"loss\", \"demo_index\", \"threshold\"]\n",
    "servo_list = defaultdict(list)\n",
    "for i in range(len(playbacks[0])):\n",
    "    info = playbacks[0][i].get_info()\n",
    "    for key in servo_keys:\n",
    "        try:\n",
    "            servo_list[key].append(info[key])\n",
    "        except KeyError:\n",
    "            pass\n",
    "\n",
    "fig, ax = plt.subplots(1, figsize=(8, 6))\n",
    "ax2 = ax.twinx()\n",
    "ax.plot(servo_list[\"loss\"], label=\"loss\")\n",
    "ax2.plot(servo_list[\"demo_index\"],color=\"orange\", label=\"demo_index\")\n",
    "ax.plot(servo_list[\"threshold\"],color=\"k\", label=\"threshold\")\n",
    "plt.legend()\n",
    "plt.show()"
   ]
  },
  {
   "cell_type": "code",
   "execution_count": null,
   "id": "37870ed6",
   "metadata": {},
   "outputs": [],
   "source": []
  },
  {
   "cell_type": "code",
   "execution_count": null,
   "id": "b860386a",
   "metadata": {},
   "outputs": [],
   "source": []
  }
 ],
 "metadata": {
  "kernelspec": {
   "display_name": "Python 3 (ipykernel)",
   "language": "python",
   "name": "python3"
  },
  "language_info": {
   "codemirror_mode": {
    "name": "ipython",
    "version": 3
   },
   "file_extension": ".py",
   "mimetype": "text/x-python",
   "name": "python",
   "nbconvert_exporter": "python",
   "pygments_lexer": "ipython3",
   "version": "3.8.12"
  }
 },
 "nbformat": 4,
 "nbformat_minor": 5
}
