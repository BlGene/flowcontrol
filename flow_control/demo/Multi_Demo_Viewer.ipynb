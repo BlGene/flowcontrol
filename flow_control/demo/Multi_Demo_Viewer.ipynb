{
 "cells": [
  {
   "cell_type": "markdown",
   "id": "383824bb",
   "metadata": {},
   "source": [
    "# TODO List\n",
    "\n",
    "1. Run the `conditional/record_script.py` script for num_episodes=100 cases, also try setting `sample_params=False` and see if this still produces randomized positions, if so use this.\n",
    "2. In the `shape_sorting_task.py` file adjust `shape_center` and `shape_d` variables so objects are nearly always visible. The inital view frame in this notebook can be used for this.\n",
    "3. For each of the episodes apply the conditional servoing selection function to show the closest demonstration. Plot these so that it is possible to scroll through the closest.\n"
   ]
  },
  {
   "cell_type": "code",
   "execution_count": null,
   "id": "96a7256e",
   "metadata": {},
   "outputs": [],
   "source": [
    "import os\n",
    "import numpy as np\n",
    "import logging\n",
    "import copy\n",
    "import json\n",
    "from glob import glob\n",
    "from tqdm import tqdm\n",
    "\n",
    "from flow_control.recombination.record_multi import get_configurations\n",
    "from flow_control.servoing.playback_env_servo import PlaybackEnvServo\n",
    "\n",
    "root_dir = \"/tmp/flow_experiments3\"\n",
    "\n",
    "demo_cfgs = get_configurations(prefix=\"demo\")\n",
    "recordings = []\n",
    "for _, _, _, demo_seed, demo_dir in demo_cfgs:\n",
    "    recordings.append(demo_dir)    \n",
    "print(\"number of recordings:\", len(recordings))\n",
    "print(recordings)"
   ]
  },
  {
   "cell_type": "code",
   "execution_count": null,
   "id": "2d1db0da",
   "metadata": {},
   "outputs": [],
   "source": [
    "playbacks = [PlaybackEnvServo(rec) for rec in recordings[:]]"
   ]
  },
  {
   "cell_type": "code",
   "execution_count": null,
   "id": "bf6dbb93",
   "metadata": {},
   "outputs": [],
   "source": [
    "get_ipython().run_line_magic('matplotlib', 'notebook')\n",
    "from ipywidgets import widgets, interact, Layout\n",
    "import matplotlib.pyplot as plt\n",
    "\n",
    "fig, ax = plt.subplots(1)\n",
    "fig.suptitle(\"Initial Frame\")\n",
    "ax.set_axis_off()\n",
    "image_h = ax.imshow(playbacks[0].cam.get_image()[0])\n",
    "\n",
    "def update(w):\n",
    "    image = playbacks[w].cam.get_image()[0]\n",
    "    image_h.set_data(image)\n",
    "    fig.canvas.draw_idle()\n",
    "    \n",
    "    fg_mask = playbacks[w].get_fg_mask()\n",
    "    if fg_mask is not None:\n",
    "        print(\"percent fg:\", np.mean(fg_mask)*100)\n",
    "\n",
    "    \n",
    "    \n",
    "slider_w = widgets.IntSlider(min=0, max=len(playbacks)-1, step=1, value=0,\n",
    "                             layout=Layout(width='70%'))\n",
    "interact(update, w=slider_w)\n"
   ]
  },
  {
   "cell_type": "code",
   "execution_count": null,
   "id": "a25aad30",
   "metadata": {},
   "outputs": [],
   "source": [
    "print(\"ep\\t len\\t rew\")\n",
    "for i, pb in enumerate(playbacks):\n",
    "    print(i, \"\\t\", len(pb), \"\\t\", pb[-1].data[\"rew\"])"
   ]
  },
  {
   "cell_type": "markdown",
   "id": "a3279b6b",
   "metadata": {},
   "source": []
  },
  {
   "cell_type": "code",
   "execution_count": null,
   "id": "e0956b3a",
   "metadata": {},
   "outputs": [],
   "source": [
    "files = [out[-1] for out in get_configurations(root_dir)]\n",
    "print(files)"
   ]
  },
  {
   "cell_type": "code",
   "execution_count": null,
   "id": "44094bd7",
   "metadata": {},
   "outputs": [],
   "source": [
    "from pathlib import Path\n",
    "import json\n",
    "import numpy as np\n",
    "\n",
    "def hacky_get_reward(save_dir, demo_seed):\n",
    "    save_dir2 = f\"{save_dir}_{demo_seed:03d}\"\n",
    "    frame_names = sorted(glob(f\"{save_dir2}/frame_*.npz\"))\n",
    "    return np.load(frame_names[-1])[\"rew\"].item()\n",
    "    #rewards = [np.load(frame)[\"rew\"].item() for frame in frame_names]\n",
    "        \n",
    "    \n",
    "row_rewards = []\n",
    "\n",
    "demo_cfgs = get_configurations(prefix=\"demo\")\n",
    "for _, _, _, demo_seed, demo_dir in demo_cfgs:\n",
    "    run_cfgs =  get_configurations(prefix=\"run\")\n",
    "    rewards = []\n",
    "    for _, _, _, seed, save_dir in run_cfgs:\n",
    "        reward = hacky_get_reward(save_dir, demo_seed)\n",
    "        rewards.append(reward)\n",
    "    row_rewards.append(rewards)\n",
    "    print(len(rewards))\n",
    "\n",
    "        \n",
    "print(\"done!\")\n",
    "tmp = np.array(row_rewards)\n",
    "\n",
    "print(tmp)\n",
    "print(np.mean(tmp))\n",
    "print(np.diag(tmp))\n",
    "print(np.mean(tmp, axis=1))\n",
    "fg_pixels = [np.mean(pb.get_fg_mask())*100 for pb in playbacks]\n",
    "for i, fg in enumerate(fg_pixels):\n",
    "    print(i, round(fg,2))\n",
    "X,Y,c = [], [], []\n",
    "for x in range(tmp.shape[0]):\n",
    "    for y in range(tmp.shape[1]):\n",
    "        X.append(fg_pixels[x])\n",
    "        Y.append(fg_pixels[y])\n",
    "        c.append(tmp[x,y])\n",
    "\n",
    "fig, ax = plt.subplots()\n",
    "ax.scatter(X,Y,c=c)\n",
    "ax.set_xlabel(\"demo %FG pixels\")\n",
    "plt.show()\n",
    "\"\"\"\n",
    "flatten_list = [element for sublist in row_rewards for element in sublist]   \n",
    "print(\"XXX\", np.mean(flatten_list))\n",
    "\"\"\""
   ]
  },
  {
   "cell_type": "code",
   "execution_count": null,
   "id": "7415b0fe",
   "metadata": {},
   "outputs": [],
   "source": [
    "np.mean([0.2, 0.4, 0.,  0.3, 0.2, 0.2, 0.3, 0.2, 0.3, 0.4])"
   ]
  },
  {
   "cell_type": "code",
   "execution_count": null,
   "id": "564755c4",
   "metadata": {},
   "outputs": [],
   "source": []
  }
 ],
 "metadata": {
  "kernelspec": {
   "display_name": "Python 3 (ipykernel)",
   "language": "python",
   "name": "python3"
  },
  "language_info": {
   "codemirror_mode": {
    "name": "ipython",
    "version": 3
   },
   "file_extension": ".py",
   "mimetype": "text/x-python",
   "name": "python",
   "nbconvert_exporter": "python",
   "pygments_lexer": "ipython3",
   "version": "3.8.12"
  }
 },
 "nbformat": 4,
 "nbformat_minor": 5
}
