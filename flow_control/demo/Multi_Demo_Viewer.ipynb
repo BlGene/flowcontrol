{
 "cells": [
  {
   "cell_type": "markdown",
   "id": "383824bb",
   "metadata": {},
   "source": [
    "# TODO List\n",
    "\n",
    "1. Run the `conditional/record_script.py` script for num_episodes=100 cases, also try setting `sample_params=False` and see if this still produces randomized positions, if so use this.\n",
    "2. In the `shape_sorting_task.py` file adjust `shape_center` and `shape_d` variables so objects are nearly always visible. The inital view frame in this notebook can be used for this.\n",
    "3. For each of the episodes apply the conditional servoing selection function to show the closest demonstration. Plot these so that it is possible to scroll through the closest.\n"
   ]
  },
  {
   "cell_type": "code",
   "execution_count": null,
   "id": "96a7256e",
   "metadata": {},
   "outputs": [],
   "source": [
    "import os\n",
    "import numpy as np\n",
    "import logging\n",
    "import copy\n",
    "import json\n",
    "from glob import glob\n",
    "from tqdm import tqdm\n",
    "\n",
    "from robot_io.recorder.playback_recorder import PlaybackEnv, unprocess_seg\n",
    "\n",
    "recording_template = \"../tmp_test/shape_sorting_trapeze_rR_*\"\n",
    "recordings = glob(recording_template)\n",
    "print(\"number of recordings:\", len(recordings))"
   ]
  },
  {
   "cell_type": "code",
   "execution_count": null,
   "id": "2d1db0da",
   "metadata": {},
   "outputs": [],
   "source": [
    "playbacks = [PlaybackEnv(rec, keep_dict=None) for rec in recordings]"
   ]
  },
  {
   "cell_type": "code",
   "execution_count": null,
   "id": "bf6dbb93",
   "metadata": {},
   "outputs": [],
   "source": [
    "get_ipython().run_line_magic('matplotlib', 'notebook')\n",
    "from ipywidgets import widgets, interact, Layout\n",
    "import matplotlib.pyplot as plt\n",
    "\n",
    "fig, ax = plt.subplots(1)\n",
    "fig.suptitle(\"Initial Frame\")\n",
    "ax.set_axis_off()\n",
    "image_h = ax.imshow(playbacks[0].cam.get_image()[0])\n",
    "\n",
    "def update(w):\n",
    "    image = playbacks[w].cam.get_image()[0]\n",
    "    image_h.set_data(image)\n",
    "    fig.canvas.draw_idle()\n",
    "slider_w = widgets.IntSlider(min=0, max=len(playbacks)-1, step=1, value=0,\n",
    "                             layout=Layout(width='70%'))\n",
    "interact(update, w=slider_w)\n"
   ]
  },
  {
   "cell_type": "code",
   "execution_count": null,
   "id": "a25aad30",
   "metadata": {},
   "outputs": [],
   "source": [
    "for i, pb in enumerate(playbacks):\n",
    "    print(i, \"\\t\", len(pb), \"\\t\", pb[-1].data[\"rew\"])"
   ]
  },
  {
   "cell_type": "markdown",
   "id": "a3279b6b",
   "metadata": {},
   "source": []
  }
 ],
 "metadata": {
  "kernelspec": {
   "display_name": "Python 3 (ipykernel)",
   "language": "python",
   "name": "python3"
  },
  "language_info": {
   "codemirror_mode": {
    "name": "ipython",
    "version": 3
   },
   "file_extension": ".py",
   "mimetype": "text/x-python",
   "name": "python",
   "nbconvert_exporter": "python",
   "pygments_lexer": "ipython3",
   "version": "3.8.12"
  }
 },
 "nbformat": 4,
 "nbformat_minor": 5
}
