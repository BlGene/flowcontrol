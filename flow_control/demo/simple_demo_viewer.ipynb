{
 "cells": [
  {
   "cell_type": "markdown",
   "id": "cea80dfb",
   "metadata": {},
   "source": [
    "# Recording Viewer\n",
    "\n",
    "Show the content of a robot recording."
   ]
  },
  {
   "cell_type": "code",
   "execution_count": null,
   "id": "5191451f",
   "metadata": {},
   "outputs": [],
   "source": [
    "from pathlib import Path\n",
    "\n",
    "import numpy as np\n",
    "from tqdm import tqdm\n",
    "import matplotlib.pyplot as plt\n",
    "from ipywidgets import widgets, interact, Layout\n",
    "\n",
    "from flow_control.demo.simple_loader_robotio import SimpleLoader\n",
    "\n",
    "root_dir = Path(\"../tmp_experiment/\")\n",
    "recordings = sorted(root_dir.iterdir())\n",
    "\n",
    "loaders = [SimpleLoader(r) for r in recordings]\n",
    "\n",
    "print(\"Number of recordings:\", len(recordings))\n",
    "print(\"first\", recordings[0])\n",
    "print(\"last \", recordings[-1])"
   ]
  },
  {
   "cell_type": "markdown",
   "id": "d0971fd3",
   "metadata": {},
   "source": [
    "## Simple Examples\n",
    "\n",
    "actions and keyframes might not be present"
   ]
  },
  {
   "cell_type": "code",
   "execution_count": null,
   "id": "7ea139c9",
   "metadata": {},
   "outputs": [],
   "source": [
    "sl = loaders[0]\n",
    "frame_index = 0\n",
    "\n",
    "rgb = sl.get_image(0)\n",
    "depth = sl.get_depth(0)\n",
    "print(\"image shape:\", rgb.shape)\n",
    "\n",
    "action = sl.get_action(12)\n",
    "print(\"action:\", action)\n",
    "\n",
    "kf = sl.get_keyframes()\n",
    "print(\"keyframes:\", kf)"
   ]
  },
  {
   "cell_type": "code",
   "execution_count": null,
   "id": "521d1040",
   "metadata": {},
   "outputs": [],
   "source": [
    "from skimage.transform import resize\n",
    "from PIL import Image\n",
    "\n",
    "seg = np.array(sl.get_segmentation(0), dtype=float)\n",
    "\n",
    "tmp = resize(seg, (8,8))\n",
    "#tmp = np.asarray(Image.fromarray(seg).resize((8,8),resample=Image.Resampling.BICUBIC))\n",
    "print(tmp.max())\n",
    "print(tmp.sum())\n",
    "pos = plt.imshow(tmp)\n",
    "plt.colorbar(pos)\n",
    "plt.show()"
   ]
  },
  {
   "cell_type": "markdown",
   "id": "ab0ca59e",
   "metadata": {},
   "source": [
    "## Show RGB Frames"
   ]
  },
  {
   "cell_type": "code",
   "execution_count": null,
   "id": "28fb4f22",
   "metadata": {},
   "outputs": [],
   "source": [
    "# Plot the demonstrations\n",
    "%matplotlib notebook\n",
    "fig, ax = plt.subplots(1,figsize=(8, 6))\n",
    "fig.suptitle(\"Recording Frames\")\n",
    "ax.set_axis_off()\n",
    "image_h = ax.imshow(loaders[0].get_image(0))\n",
    "plt.show()\n",
    "\n",
    "def update(demo_index, frame_index):\n",
    "    demo_len = loaders[demo_index].get_len()\n",
    "    if frame_index >= demo_len:\n",
    "        print(f\"invalid frame index: {frame_index}, demo length: {demo_len}\")\n",
    "        return\n",
    "    image = loaders[demo_index].get_image(frame_index)\n",
    "    image_h.set_data(image)\n",
    "    try:\n",
    "        info = loaders[demo_index].get_info(frame_index)\n",
    "        print(info[\"wp_name\"])\n",
    "    except AttributeError:\n",
    "        pass\n",
    "    fig.canvas.draw_idle()\n",
    "    \n",
    "slider_w = widgets.IntSlider(min=0, max=len(recordings)-1, step=1, value=0,\n",
    "                             layout=Layout(width='70%'))\n",
    "slider_i = widgets.IntSlider(min=0, max=200-1, step=1, value=0,\n",
    "                             layout=Layout(width='70%'))\n",
    "\n",
    "interact(update, demo_index=slider_w, frame_index=slider_i)"
   ]
  },
  {
   "cell_type": "markdown",
   "id": "940b47c6",
   "metadata": {},
   "source": [
    "## Show TCP Positions"
   ]
  },
  {
   "cell_type": "code",
   "execution_count": null,
   "id": "c3c310a5",
   "metadata": {},
   "outputs": [],
   "source": [
    "%matplotlib notebook\n",
    "demo_index = 0\n",
    "demo_len = loaders[demo_index].get_len()\n",
    "\n",
    "grip_w  = [loaders[demo_index].get_gripper_width(f) for f in range(demo_len)]\n",
    "tcp_positions = [loaders[demo_index].get_tcp_pose(f) for f in range(demo_len)]\n",
    "tcp_positions = np.array(tcp_positions)\n",
    "tcp_x = tcp_positions[:,0,3]\n",
    "tcp_y = tcp_positions[:,1,3]\n",
    "tcp_z = tcp_positions[:,2,3]\n",
    "\n",
    "fig, (ax, ax2) = plt.subplots(2, 1)\n",
    "fig.suptitle(\"Robot Positions\")\n",
    "line = ax.imshow(loaders[demo_index].get_image(0))\n",
    "ax.set_axis_off()\n",
    "ax2.plot(tcp_x, label=\"x\")\n",
    "ax2.plot(tcp_y, label=\"y\")\n",
    "ax2.plot(tcp_z, label=\"z\")\n",
    "ax2.plot(grip_w, label=\"g\")\n",
    "ax2.set_ylabel(\"value\")\n",
    "ax2.set_xlabel(\"frame number\")\n",
    "vline = ax2.axvline(x=2, color=\"k\")\n",
    "ax2.legend()\n",
    "\n",
    "def update(w):\n",
    "    vline.set_data([w, w], [0, 1])\n",
    "    line.set_data(loaders[demo_index].get_image(w))\n",
    "    fig.canvas.draw_idle()\n",
    "slider_w = widgets.IntSlider(min=0, max=demo_len-1, step=1, value=0,\n",
    "                             layout=Layout(width='70%'))\n",
    "interact(update, w=slider_w)"
   ]
  },
  {
   "cell_type": "markdown",
   "id": "1003a015",
   "metadata": {},
   "source": [
    "## Show Depth"
   ]
  },
  {
   "cell_type": "code",
   "execution_count": null,
   "id": "6ba5fc20",
   "metadata": {},
   "outputs": [],
   "source": [
    "# Plot the demonstrations\n",
    "%matplotlib notebook\n",
    "fig, (ax, ax2) = plt.subplots(1,2,figsize=(8, 6))\n",
    "fig.suptitle(\"Recording Depth\")\n",
    "ax.set_axis_off()\n",
    "ax2.set_axis_off()\n",
    "image_h = ax.imshow(loaders[0].get_image(0))\n",
    "image_d = ax2.imshow(loaders[0].get_depth(0))\n",
    "plt.show()\n",
    "\n",
    "def update(demo_index, frame_index):\n",
    "    demo_len = loaders[demo_index].get_len()\n",
    "    if frame_index >= demo_len:\n",
    "        print(f\"invalid frame index: {frame_index}, demo length: {demo_len}\")\n",
    "        return\n",
    "    image = loaders[demo_index].get_image(frame_index)\n",
    "    image_h.set_data(image)\n",
    "    depth = loaders[demo_index].get_depth(frame_index)\n",
    "    image_d.set_data(depth)\n",
    "    try:\n",
    "        info = loaders[demo_index].get_info(frame_index)\n",
    "        print(info[\"wp_name\"])\n",
    "    except AttributeError:\n",
    "        pass\n",
    "    fig.canvas.draw_idle()\n",
    "    \n",
    "slider_w = widgets.IntSlider(min=0, max=len(recordings)-1, step=1, value=0,\n",
    "                             layout=Layout(width='70%'))\n",
    "slider_i = widgets.IntSlider(min=0, max=200-1, step=1, value=0,\n",
    "                             layout=Layout(width='70%'))\n",
    "\n",
    "interact(update, demo_index=slider_w, frame_index=slider_i)"
   ]
  },
  {
   "cell_type": "markdown",
   "id": "02723f08",
   "metadata": {},
   "source": [
    "# Evaluate Statistics"
   ]
  },
  {
   "cell_type": "code",
   "execution_count": null,
   "id": "c5908bda",
   "metadata": {},
   "outputs": [],
   "source": [
    "rewards = [sl.get_reward() for sl in loaders]\n",
    "print(\"mean success rate\", np.mean(rewards))\n",
    "\n",
    "lenghts = [sl.get_len() for sl in loaders]\n",
    "print(\"mean length\", np.mean(lenghts))"
   ]
  }
 ],
 "metadata": {
  "kernelspec": {
   "display_name": "Python 3 (ipykernel)",
   "language": "python",
   "name": "python3"
  },
  "language_info": {
   "codemirror_mode": {
    "name": "ipython",
    "version": 3
   },
   "file_extension": ".py",
   "mimetype": "text/x-python",
   "name": "python",
   "nbconvert_exporter": "python",
   "pygments_lexer": "ipython3",
   "version": "3.8.12"
  }
 },
 "nbformat": 4,
 "nbformat_minor": 5
}
