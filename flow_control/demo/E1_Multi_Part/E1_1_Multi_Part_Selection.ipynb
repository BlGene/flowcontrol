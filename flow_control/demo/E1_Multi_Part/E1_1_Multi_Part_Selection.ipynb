{
 "cells": [
  {
   "cell_type": "markdown",
   "id": "b22c63db",
   "metadata": {},
   "source": [
    "# Computing scores for recombination\n",
    "1. Compute the errors at the front, for each live seed\n",
    "2. Compute the error matrix between demonstrations\n",
    "3. Compute errors with respect to the goal image."
   ]
  },
  {
   "cell_type": "code",
   "execution_count": null,
   "id": "f1edd74f",
   "metadata": {},
   "outputs": [],
   "source": [
    "import os\n",
    "import copy\n",
    "import time\n",
    "import json\n",
    "import shutil\n",
    "import unittest\n",
    "import subprocess\n",
    "from pathlib import Path\n",
    "import numpy as np\n",
    "\n",
    "from scipy.spatial.transform import Rotation as R\n",
    "\n",
    "from gym_grasping.envs.robot_sim_env import RobotSimEnv\n",
    "from flow_control.demo.demo_episode_recorder import record_sim\n",
    "from flow_control.runner import evaluate_control\n",
    "from flow_control.servoing.module import ServoingModule\n",
    "from flow_control.servoing.playback_env_servo import PlaybackEnvServo\n",
    "import matplotlib.pyplot as plt\n",
    "from ipywidgets import widgets, interact, Layout\n",
    "import seaborn as sns\n",
    "from tqdm import tqdm\n",
    "import getpass\n",
    "\n",
    "%matplotlib inline\n",
    "\n",
    "experiment = \"multi_part\"\n",
    "\n",
    "def get_data_dir():\n",
    "    username = getpass.getuser()\n",
    "    if username == \"argusm\":\n",
    "        return \"/tmp/flow_experiments3\"\n",
    "    elif username == \"nayakab\":\n",
    "        return \"../tmp\"\n",
    "\n",
    "data_dir = get_data_dir()\n",
    "\n",
    "root_dir = os.path.join(data_dir, experiment)"
   ]
  },
  {
   "cell_type": "markdown",
   "id": "09a2b139",
   "metadata": {},
   "source": [
    "## Load all demonstrations "
   ]
  },
  {
   "cell_type": "code",
   "execution_count": null,
   "id": "b439e11a",
   "metadata": {},
   "outputs": [],
   "source": [
    "def get_recordings(directory):\n",
    "    return sorted([os.path.join(directory, rec) for rec in os.listdir(directory) if os.path.isdir(os.path.join(directory, rec))])\n",
    "\n",
    "recordings = get_recordings(root_dir)"
   ]
  },
  {
   "cell_type": "code",
   "execution_count": null,
   "id": "10bc63e6",
   "metadata": {},
   "outputs": [],
   "source": [
    "# Load the demonstration episodes\n",
    "playbacks = [PlaybackEnvServo(rec) for rec in recordings[:]]\n",
    "\n",
    "# Plot the demonstrations\n",
    "%matplotlib notebook\n",
    "fig, ax = plt.subplots(1,figsize=(8, 6))\n",
    "fig.suptitle(\"Demonstration Frames\")\n",
    "ax.set_axis_off()\n",
    "image_h = ax.imshow(playbacks[0].cam.get_image()[0])\n",
    "\n",
    "def update(demo_index, frame_index):\n",
    "    image = playbacks[demo_index][frame_index].cam.get_image()[0]\n",
    "    image_h.set_data(image)\n",
    "    fig.canvas.draw_idle()\n",
    "    print(\"wp_name:\", playbacks[demo_index][frame_index].get_info()[\"wp_name\"])\n",
    "    fg_mask = playbacks[demo_index].get_fg_mask()\n",
    "    if fg_mask is not None:\n",
    "        print(\"percent fg:\", np.mean(fg_mask)*100)\n",
    "    \n",
    "slider_w = widgets.IntSlider(min=0, max=len(playbacks)-1, step=1, value=0,\n",
    "                             layout=Layout(width='70%'))\n",
    "slider_i = widgets.IntSlider(min=0, max=200-1, step=1, value=0,\n",
    "                             layout=Layout(width='70%'))\n",
    "\n",
    "interact(update, demo_index=slider_w, frame_index=slider_i)"
   ]
  },
  {
   "cell_type": "code",
   "execution_count": null,
   "id": "8917daed",
   "metadata": {},
   "outputs": [],
   "source": [
    "def filter_demo(pb):\n",
    "    return pb[-1].data['rew'] > 0 and np.mean(pb.get_fg_mask()) > 0.005\n",
    "\n",
    "demo_good = [filter_demo(pb) for pb in playbacks]\n",
    "good_demonstrations = np.where(demo_good)[0]\n",
    "good_demonstrations = [int(x) for x in good_demonstrations]"
   ]
  },
  {
   "cell_type": "code",
   "execution_count": null,
   "id": "cd8c86cc",
   "metadata": {},
   "outputs": [],
   "source": [
    "# Load demo segmentation file\n",
    "demo_seg_file_2parts = f'{root_dir}/demo_parts_manual2.json'\n",
    "demo_seg_file_3parts = f'{root_dir}/demo_parts_manual3.json'\n",
    "\n",
    "fp = open(demo_seg_file_2parts)\n",
    "demo_2parts = json.load(fp)\n",
    "\n",
    "fp = open(demo_seg_file_3parts)\n",
    "demo_3parts = json.load(fp)\n",
    "\n",
    "live_indices = [int(key) for key in demo_2parts.keys()]"
   ]
  },
  {
   "cell_type": "code",
   "execution_count": null,
   "id": "12ab6eff",
   "metadata": {},
   "outputs": [],
   "source": [
    "# Servo Module\n",
    "# Load Servoing Module\n",
    "from flow_control.servoing.module import ServoingModule\n",
    "control_config = dict(mode=\"pointcloud-abs-rotz\", threshold=0.40)\n",
    "servo_module = ServoingModule(recordings[0], control_config=control_config,\n",
    "                              start_paused=False)"
   ]
  },
  {
   "cell_type": "code",
   "execution_count": null,
   "id": "b80aae3e",
   "metadata": {},
   "outputs": [],
   "source": [
    "def similarity_from_reprojection(live_rgb, demo_rgb, demo_mask, return_images=False):\n",
    "    # evaluate the similarity via flow reprojection error\n",
    "    flow = servo_module.flow_module.step(demo_rgb, live_rgb)\n",
    "    warped = servo_module.flow_module.warp_image(live_rgb / 255.0, flow)\n",
    "    diff = (warped - (demo_rgb / 255.0))\n",
    "    error = np.linalg.norm((warped - (demo_rgb / 255.0)), axis=2) * demo_mask\n",
    "    error = error.sum() / demo_mask.sum()\n",
    "    mean_flow = np.linalg.norm(flow[demo_mask],axis=1).mean()\n",
    "    if return_images:\n",
    "        return error, mean_flow, flow, warped\n",
    "    return error, mean_flow"
   ]
  },
  {
   "cell_type": "code",
   "execution_count": null,
   "id": "a101ca1d",
   "metadata": {},
   "outputs": [],
   "source": [
    "from sklearn.preprocessing import minmax_scale\n",
    "\n",
    "def normalize_errors(errors, flows):\n",
    "    errors_l = errors[demo_good]\n",
    "    mean_flows_l = flows[demo_good]\n",
    "    errors_norm = np.ones(errors.shape)\n",
    "    w = 0.5\n",
    "    errors_norm[demo_good] = np.mean((1*minmax_scale(errors_l), w*minmax_scale(mean_flows_l)),axis=0)/(1+w)\n",
    "    return errors_norm"
   ]
  },
  {
   "cell_type": "code",
   "execution_count": null,
   "id": "e486add5",
   "metadata": {},
   "outputs": [],
   "source": [
    "demo_2parts"
   ]
  },
  {
   "cell_type": "markdown",
   "id": "51bbcc41",
   "metadata": {},
   "source": [
    "## Error matrix between demonstration parts "
   ]
  },
  {
   "cell_type": "code",
   "execution_count": null,
   "id": "a5543106",
   "metadata": {},
   "outputs": [],
   "source": [
    "import seaborn as sns\n",
    "\n",
    "error_matrix = np.ones((len(playbacks), len(playbacks)))\n",
    "flow_matrix = np.zeros((len(playbacks), len(playbacks)))\n",
    "\n",
    "def get_error_matrix(demo_parts, part_idx1, part_idx2, ):\n",
    "    for k1, v1 in tqdm(demo_parts.items()):\n",
    "        demo_i1 = int(k1)\n",
    "        im1 = playbacks[demo_i1][v1[part_idx1]['end']].cam.get_image()[0]\n",
    "        for k2, v2 in demo_parts.items():\n",
    "            demo_i2 = int(k2)      \n",
    "            im2 = playbacks[demo_i2][v2[part_idx2]['start']].cam.get_image()[0]\n",
    "            mask2 = playbacks[demo_i2].fg_masks[v2[part_idx2]['start']]\n",
    "\n",
    "            error, flow = similarity_from_reprojection(im1, im2, mask2)\n",
    "            error_matrix[demo_i1, demo_i2] = error\n",
    "            flow_matrix[demo_i1, demo_i2] = flow\n",
    "\n",
    "    error_matrix_norm = normalize_errors(error_matrix, flow_matrix)\n",
    "    \n",
    "    return error_matrix_norm\n",
    "\n",
    "error_matrix_2_part = get_error_matrix(demo_2parts, 0, 1)\n",
    "np.savez(f\"{root_dir}/error_matrix_2_part.npz\", error_matrix_2_part)\n",
    "\n",
    "error_matrix_3_part_1 = get_error_matrix(demo_3parts, 0, 1)\n",
    "np.savez(f\"{root_dir}/error_matrix_3_part_1.npz\", error_matrix_3_part_1)\n",
    "\n",
    "error_matrix_3_part_2 = get_error_matrix(demo_3parts, 1, 2)\n",
    "np.savez(f\"{root_dir}/error_matrix_3_part_2.npz\", error_matrix_3_part_2)\n",
    "\n",
    "sns.heatmap(1 - error_matrix_2_part)"
   ]
  }
 ],
 "metadata": {
  "kernelspec": {
   "display_name": "robot1",
   "language": "python",
   "name": "robot1"
  },
  "language_info": {
   "codemirror_mode": {
    "name": "ipython",
    "version": 3
   },
   "file_extension": ".py",
   "mimetype": "text/x-python",
   "name": "python",
   "nbconvert_exporter": "python",
   "pygments_lexer": "ipython3",
   "version": "3.8.13"
  }
 },
 "nbformat": 4,
 "nbformat_minor": 5
}
