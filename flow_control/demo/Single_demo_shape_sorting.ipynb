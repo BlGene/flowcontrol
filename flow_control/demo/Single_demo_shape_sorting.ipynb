{
 "cells": [
  {
   "cell_type": "code",
   "execution_count": null,
   "id": "f1edd74f",
   "metadata": {},
   "outputs": [],
   "source": [
    "import os\n",
    "import time\n",
    "import json\n",
    "import shutil\n",
    "import unittest\n",
    "import subprocess\n",
    "from pathlib import Path\n",
    "import numpy as np\n",
    "\n",
    "from scipy.spatial.transform import Rotation as R\n",
    "\n",
    "from gym_grasping.envs.robot_sim_env import RobotSimEnv\n",
    "from flow_control.demo.demo_episode_recorder import record_sim\n",
    "from flow_control.runner import evaluate_control\n",
    "from flow_control.servoing.module import ServoingModule\n",
    "from flow_control.servoing.playback_env_servo import PlaybackEnvServo\n",
    "import matplotlib.pyplot as plt\n",
    "from ipywidgets import widgets, interact, Layout\n",
    "import seaborn as sns\n",
    "\n",
    "%matplotlib inline\n",
    "\n",
    "root_dir = \"../tmp/ss_traj_based\""
   ]
  },
  {
   "cell_type": "code",
   "execution_count": null,
   "id": "10bc63e6",
   "metadata": {},
   "outputs": [],
   "source": [
    "recordings = sorted([os.path.join(root_dir, rec) for rec in os.listdir(root_dir) if os.path.isdir(os.path.join(root_dir, rec))])\n",
    "\n",
    "# Load the demonstration episodes\n",
    "playbacks = [PlaybackEnvServo(rec) for rec in recordings[:]]\n",
    "\n",
    "# Plot the demonstrations\n",
    "%matplotlib notebook\n",
    "fig, ax = plt.subplots(1,figsize=(8, 6))\n",
    "fig.suptitle(\"Demonstration Frames\")\n",
    "ax.set_axis_off()\n",
    "image_h = ax.imshow(playbacks[0].cam.get_image()[0])\n",
    "\n",
    "def update(demo_index, frame_index):\n",
    "    image = playbacks[demo_index][frame_index].cam.get_image()[0]\n",
    "    image_h.set_data(image)\n",
    "    fig.canvas.draw_idle()\n",
    "    print(\"wp_name:\", playbacks[demo_index][frame_index].get_info()[\"wp_name\"])\n",
    "    fg_mask = playbacks[demo_index].get_fg_mask()\n",
    "    if fg_mask is not None:\n",
    "        print(\"percent fg:\", np.mean(fg_mask)*100)\n",
    "    \n",
    "slider_w = widgets.IntSlider(min=0, max=len(playbacks)-1, step=1, value=0,\n",
    "                             layout=Layout(width='70%'))\n",
    "slider_i = widgets.IntSlider(min=0, max=200-1, step=1, value=0,\n",
    "                             layout=Layout(width='70%'))\n",
    "\n",
    "interact(update, demo_index=slider_w, frame_index=slider_i)"
   ]
  },
  {
   "cell_type": "code",
   "execution_count": null,
   "id": "8917daed",
   "metadata": {},
   "outputs": [],
   "source": [
    "def filter_demo(pb):\n",
    "    return pb[-1].data['rew'] > 0 and np.mean(pb.get_fg_mask()) > 0.005\n",
    "\n",
    "demo_good = [filter_demo(pb) for pb in playbacks]\n",
    "good_demonstrations = np.where(demo_good)[0]\n",
    "print(good_demonstrations)\n",
    "good_demonstrations = [int(x) for x in good_demonstrations]\n",
    "live_seeds = good_demonstrations"
   ]
  },
  {
   "cell_type": "code",
   "execution_count": null,
   "id": "9c98904f",
   "metadata": {},
   "outputs": [],
   "source": [
    "from gym_grasping.envs.robot_sim_env import RobotSimEnv\n",
    "from flow_control.servoing.module import ServoingModule\n",
    "from flow_control.runner import evaluate_control\n",
    "from math import pi\n",
    "\n",
    "def eval_cmb_single(save_dir, live_seed, demo_rec):\n",
    "    renderer = \"debug\"\n",
    "    control_config = dict(mode=\"pointcloud-abs-rotz\", threshold=0.4)\n",
    "    task = 'shape_sorting'\n",
    "    object_selected = 'trapeze'\n",
    "    task_variant = 'rR'\n",
    "    param_info = {\"object_selected\": object_selected}\n",
    "    env = RobotSimEnv(task='shape_sorting', renderer=renderer, act_type='continuous',\n",
    "                      initial_pose='close', max_steps=200, control='absolute-full',\n",
    "                      img_size=(256, 256),\n",
    "                      param_randomize=(\"geom\",),\n",
    "                      param_info=param_info,\n",
    "                      task_info=dict(object_rot_range={\"rP\":pi/2.,\"rR\":pi/6.}[task_variant]),\n",
    "                      seed=live_seed)\n",
    "\n",
    "    servo_module = ServoingModule(demo_rec, control_config=control_config,\n",
    "                                  start_paused=False, plot=False, plot_save_dir=None)\n",
    "    _, reward, _, info = evaluate_control(env, servo_module,\n",
    "                                          max_steps=130,\n",
    "                                          save_dir=save_dir)\n",
    "    return reward"
   ]
  },
  {
   "cell_type": "code",
   "execution_count": null,
   "id": "615efb59",
   "metadata": {},
   "outputs": [],
   "source": [
    "rewards = np.zeros((10, 10))\n",
    "save_root = \"../tmp/single_demo_run_ss_rR\"\n",
    "os.makedirs(save_root, exist_ok=True)\n",
    "\n",
    "for live_idx, live_seed in enumerate(good_demonstrations[0:10]):\n",
    "    for demo_idx, demo_seed in enumerate(good_demonstrations[0:10]):\n",
    "        if live_seed == demo_seed:\n",
    "            continue\n",
    "        demo_rec = recordings[demo_seed]\n",
    "        save_dir = f\"{save_root}/run_ss_trapeze_rR_{live_seed}_{demo_seed}\"\n",
    "        reward = eval_cmb_single(save_dir, live_seed, demo_rec)\n",
    "        rewards[live_idx, demo_idx] = reward\n",
    "        np.savez(f\"../tmp/single_demo_rewards_ss_rR.npz\", rewards)"
   ]
  },
  {
   "cell_type": "code",
   "execution_count": null,
   "id": "e6b707a3",
   "metadata": {
    "scrolled": true
   },
   "outputs": [],
   "source": [
    "# runs = [os.path.join(save_root, run) for run in os.listdir(save_root)]\n",
    "# run_playbacks = [PlaybackEnvServo(rec) for rec in runs]"
   ]
  },
  {
   "cell_type": "code",
   "execution_count": null,
   "id": "e9ebd0c1",
   "metadata": {},
   "outputs": [],
   "source": [
    "save_root = \"../tmp/single_demo_run_ss\""
   ]
  },
  {
   "cell_type": "code",
   "execution_count": null,
   "id": "2a902e79",
   "metadata": {
    "scrolled": true
   },
   "outputs": [],
   "source": [
    "def filter_demo(pb):\n",
    "    return 1 if pb[-1].data['rew'] > 0 and np.atleast_1d(pb[-1].data['info'])[0]['object_selected'] == 2 else 0\n",
    "\n",
    "single_rewards = np.zeros((len(good_demonstrations), len(good_demonstrations)))\n",
    "mask = np.zeros((len(good_demonstrations), len(good_demonstrations)))\n",
    "\n",
    "rewards = []\n",
    "for live_idx, live_i in enumerate(good_demonstrations[0:10]):\n",
    "    rew_temp = []\n",
    "    for demo_idx, demo_i in enumerate(good_demonstrations[0:10]):\n",
    "        if live_i == demo_i:\n",
    "            continue\n",
    "        save_dir = f\"{save_root}/run_ss_trapeze_rP_{live_i}_{demo_i}\"\n",
    "        pb = PlaybackEnvServo(save_dir)\n",
    "        filtered_reward = filter_demo(pb)\n",
    "        rew_temp.append(filtered_reward)\n",
    "        \n",
    "        mask[live_idx, demo_idx] = filtered_reward\n",
    "        single_rewards[live_idx, demo_idx] = pb[-1].data['rew']\n",
    "#         rewards.append(filtered_reward)\n",
    "    rewards.append(rew_temp)\n",
    "print(np.mean(rewards))\n",
    "        "
   ]
  },
  {
   "cell_type": "code",
   "execution_count": null,
   "id": "b1583bbf",
   "metadata": {},
   "outputs": [],
   "source": [
    "rew_mean = np.mean(rewards, axis=0)\n",
    "np.std(rew_mean)"
   ]
  },
  {
   "cell_type": "code",
   "execution_count": null,
   "id": "96406a7a",
   "metadata": {},
   "outputs": [],
   "source": [
    "rew = np.load(\"../tmp/single_demo_rewards_ss_rP.npz\")['arr_0']\n",
    "rew_mean = np.mean(rew, axis=0)\n",
    "np.std(rew_mean)"
   ]
  },
  {
   "cell_type": "code",
   "execution_count": null,
   "id": "f8e3030b",
   "metadata": {},
   "outputs": [],
   "source": [
    "# import numpy as np\n",
    "# rew = np.array([[-1., -1.,  1.,  0.,  1.,  1.,  1.,  1.,  1.,  1.,  0.,  0.,  1.,\n",
    "#          0.,  1.,  1.,  0.,  1.,  1.,  1.],\n",
    "#        [-1., -1., -1., -1., -1., -1., -1., -1., -1., -1., -1., -1., -1.,\n",
    "#         -1., -1., -1., -1., -1., -1., -1.],\n",
    "#        [ 1., -1., -1.,  0.,  1.,  1.,  0.,  1.,  1.,  1.,  1.,  0.,  1.,\n",
    "#          1.,  0.,  0.,  0.,  0.,  1.,  0.],\n",
    "#        [ 0., -1.,  0., -1.,  0.,  0.,  1.,  1.,  0.,  0.,  1.,  1.,  0.,\n",
    "#          1.,  1.,  1.,  0.,  1.,  1.,  1.],\n",
    "#        [ 1., -1.,  0.,  0., -1.,  0.,  1.,  0.,  1.,  1.,  1.,  0.,  1.,\n",
    "#          1.,  0.,  1.,  0.,  1.,  1.,  1.],\n",
    "#        [ 1., -1.,  1.,  0.,  0., -1.,  1.,  1.,  1.,  1.,  0.,  0.,  1.,\n",
    "#          1.,  1.,  1.,  0.,  1.,  1.,  0.],\n",
    "#        [ 0., -1.,  1.,  0.,  1.,  0., -1.,  0.,  1.,  0.,  1.,  1.,  1.,\n",
    "#          1.,  0.,  1.,  0.,  1.,  1.,  1.],\n",
    "#        [ 0., -1.,  1.,  0.,  1.,  1.,  1., -1.,  1.,  1.,  1.,  0.,  1.,\n",
    "#          1.,  0.,  1.,  0.,  1.,  1.,  1.],\n",
    "#        [ 1., -1.,  1.,  1.,  1.,  1.,  1.,  1., -1.,  0.,  0.,  0.,  1.,\n",
    "#          1.,  0.,  1.,  0.,  1.,  0.,  1.],\n",
    "#        [ 0., -1.,  1.,  0.,  1.,  1.,  1.,  0.,  1., -1.,  1.,  0.,  0.,\n",
    "#          1.,  0.,  1.,  0.,  1.,  1.,  0.],\n",
    "#        [ 1., -1.,  1.,  1.,  1.,  1.,  1.,  1.,  1.,  1., -1.,  1.,  1.,\n",
    "#          1.,  1.,  0.,  0.,  1.,  1.,  0.],\n",
    "#        [ 0., -1.,  1.,  0.,  1.,  1.,  1.,  0.,  1.,  1.,  1., -1.,  1.,\n",
    "#          0.,  1.,  1.,  1.,  1.,  1.,  1.],\n",
    "#        [ 1., -1.,  1.,  0.,  0.,  1.,  0.,  1.,  1.,  1.,  0.,  0., -1.,\n",
    "#          1.,  0.,  0.,  0.,  1.,  0.,  1.],\n",
    "#        [ 1., -1.,  1.,  0.,  1.,  1.,  1.,  0.,  1.,  1.,  1.,  0.,  1.,\n",
    "#         -1.,  0.,  1.,  0.,  1.,  1.,  1.],\n",
    "#        [ 0., -1.,  1.,  0.,  1.,  1.,  1.,  0.,  1.,  1.,  1.,  1.,  1.,\n",
    "#          1., -1.,  1.,  1.,  1.,  1.,  1.],\n",
    "#        [ 0., -1.,  1.,  0.,  1.,  1.,  1.,  1.,  1.,  1.,  0.,  0.,  1.,\n",
    "#          1.,  0., -1.,  0.,  1.,  1.,  1.],\n",
    "#        [ 0., -1.,  0.,  0.,  0.,  1.,  1.,  1.,  1.,  1.,  0.,  0.,  1.,\n",
    "#          1.,  0.,  1., -1.,  1.,  1.,  1.],\n",
    "#        [ 0., -1.,  0.,  0.,  1.,  1.,  1.,  1.,  1.,  1.,  1.,  0.,  1.,\n",
    "#          1.,  1.,  1.,  0., -1.,  1.,  1.],\n",
    "#        [ 0., -1.,  1.,  1.,  1.,  0.,  1.,  0.,  1.,  1.,  1.,  1.,  1.,\n",
    "#          0.,  0.,  1.,  1.,  1., -1.,  0.],\n",
    "#        [ 1., -1.,  1.,  0.,  0.,  1.,  1.,  1.,  0.,  1.,  1.,  1.,  1.,\n",
    "#          1.,  1.,  1.,  0.,  1.,  1., -1.]])"
   ]
  },
  {
   "cell_type": "code",
   "execution_count": null,
   "id": "d0628027",
   "metadata": {},
   "outputs": [],
   "source": [
    "np.mean(rew_zero_one)"
   ]
  },
  {
   "cell_type": "code",
   "execution_count": null,
   "id": "220f4ee4",
   "metadata": {},
   "outputs": [],
   "source": [
    "rew_mean = np.mean(rew_zero_one, axis=0)"
   ]
  },
  {
   "cell_type": "code",
   "execution_count": null,
   "id": "9547410d",
   "metadata": {},
   "outputs": [],
   "source": [
    "np.std(rew_zero_one)"
   ]
  },
  {
   "cell_type": "code",
   "execution_count": null,
   "id": "67be4f62",
   "metadata": {},
   "outputs": [],
   "source": []
  }
 ],
 "metadata": {
  "kernelspec": {
   "display_name": "robot1",
   "language": "python",
   "name": "robot1"
  },
  "language_info": {
   "codemirror_mode": {
    "name": "ipython",
    "version": 3
   },
   "file_extension": ".py",
   "mimetype": "text/x-python",
   "name": "python",
   "nbconvert_exporter": "python",
   "pygments_lexer": "ipython3",
   "version": "3.8.13"
  }
 },
 "nbformat": 4,
 "nbformat_minor": 5
}
