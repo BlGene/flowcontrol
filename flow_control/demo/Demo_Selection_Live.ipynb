{
 "cells": [
  {
   "cell_type": "code",
   "execution_count": null,
   "id": "c04780ff",
   "metadata": {},
   "outputs": [],
   "source": [
    "import os\n",
    "import copy\n",
    "import json\n",
    "import logging\n",
    "from glob import glob\n",
    "from pathlib import Path\n",
    "\n",
    "from tqdm import tqdm\n",
    "import numpy as np\n",
    "import matplotlib.pyplot as plt\n",
    "from ipywidgets import widgets, interact, Layout\n",
    "\n",
    "from flow_control.servoing.playback_env_servo import PlaybackEnvServo\n",
    "\n",
    "root_dir = \"/tmp/flow_experiments3\"\n",
    "task = \"shape_sorting\"\n",
    "object_selected = \"trapeze\" \n",
    "task_variant = \"rP\"  # rotation plus (+-pi)\n",
    "\n",
    "def get_configurations(root_dir=root_dir, num_episodes=20, prefix=\"\"):\n",
    "    os.makedirs(root_dir, exist_ok=True)\n",
    "    save_dir_template = os.path.join(root_dir, f\"{prefix}_{task}_{object_selected}\")\n",
    "    for seed in range(num_episodes):\n",
    "        save_dir = save_dir_template + f\"_{task_variant}\"+f\"_seed{seed:03d}\"\n",
    "        yield object_selected, seed, save_dir\n",
    "            \n",
    "demo_cfgs = get_configurations(prefix=\"demo\")\n",
    "recordings = []\n",
    "for _, demo_seed, demo_dir in demo_cfgs:\n",
    "    recordings.append(demo_dir)\n",
    "    \n",
    "print(\"Number of recordings:\", len(recordings))\n",
    "print(\"first\", recordings[0])\n",
    "print(\"last \", recordings[-1])"
   ]
  },
  {
   "cell_type": "code",
   "execution_count": null,
   "id": "86ae4f31",
   "metadata": {},
   "outputs": [],
   "source": [
    "live_seed, demo_seed = 6, 7\n",
    "demo_dir = recordings[demo_seed]\n",
    "print(f\"live: {live_seed} demo: {demo_seed} @ {demo_dir}\")\n",
    "print()\n",
    "\n",
    "demo = PlaybackEnvServo(demo_dir, load=\"keep\")\n",
    "print(\"demo keep:\", list(demo.keep_dict.keys()))\n",
    "print()\n",
    "\n",
    "demo_parts_fn = os.path.join(root_dir, \"demo_parts_manual3.json\")\n",
    "with open(demo_parts_fn) as f_obj:\n",
    "    demo_parts = json.load(f_obj)\n",
    "\n",
    "demo_keep = sorted(list(demo.keep_dict.keys()))\n",
    "keep_all = copy.copy(demo.keep_dict)\n",
    "keep_parts = {}\n",
    "for p in demo_parts[str(demo_seed)]:\n",
    "    if p[\"start\"] == 0:\n",
    "        p_start = -1\n",
    "    else:\n",
    "        p_start = p[\"start\"]\n",
    "        \n",
    "    parts = []\n",
    "    for demo_index in demo_keep:\n",
    "        if p_start < demo_index and p[\"end\"] >= demo_index:\n",
    "            parts.append(demo_index)\n",
    "    print(p[\"name\"], '\\t', parts)\n",
    "    \n",
    "    keep_parts[p[\"name\"]] = dict([(i, demo.keep_dict[i]) for i in parts])\n",
    "    \n",
    "# set keep_dict to first part\n",
    "demo.keep_dict = keep_parts[\"locate\"]\n",
    "#servo_module\n"
   ]
  },
  {
   "cell_type": "code",
   "execution_count": null,
   "id": "fb258f9a",
   "metadata": {},
   "outputs": [],
   "source": [
    "from math import pi\n",
    "from flow_control.servoing.module import ServoingModule\n",
    "from gym_grasping.envs.robot_sim_env import RobotSimEnv\n",
    "from flow_control.runner import evaluate_control\n",
    "\n",
    "renderer = \"debug\"\n",
    "control_config = dict(mode=\"pointcloud-abs-rotz\", threshold=0.40)\n",
    "\n",
    "demo = PlaybackEnvServo(recordings[demo_seed])\n",
    "servo_module = ServoingModule(demo, control_config=control_config,\n",
    "                              start_paused=False, plot=False, plot_save_dir=None)\n",
    "\n",
    "env = RobotSimEnv(task='shape_sorting', renderer=renderer, act_type='continuous',\n",
    "                  initial_pose='close', max_steps=500, control='absolute-full',\n",
    "                  img_size=(256, 256), param_randomize=(\"geom\",), seed=int(live_seed),\n",
    "                  task_info=dict(object_rot_range={\"rP\":pi/2.,\"rR\":pi/6.}[task_variant]))\n",
    "\n",
    "_, reward, _, info = evaluate_control(env, servo_module, max_steps=130)"
   ]
  },
  {
   "cell_type": "code",
   "execution_count": null,
   "id": "1e5027ed",
   "metadata": {},
   "outputs": [],
   "source": [
    "del(env)"
   ]
  },
  {
   "cell_type": "code",
   "execution_count": null,
   "id": "ad189455",
   "metadata": {},
   "outputs": [],
   "source": []
  }
 ],
 "metadata": {
  "kernelspec": {
   "display_name": "Python 3 (ipykernel)",
   "language": "python",
   "name": "python3"
  },
  "language_info": {
   "codemirror_mode": {
    "name": "ipython",
    "version": 3
   },
   "file_extension": ".py",
   "mimetype": "text/x-python",
   "name": "python",
   "nbconvert_exporter": "python",
   "pygments_lexer": "ipython3",
   "version": "3.8.12"
  }
 },
 "nbformat": 4,
 "nbformat_minor": 5
}
