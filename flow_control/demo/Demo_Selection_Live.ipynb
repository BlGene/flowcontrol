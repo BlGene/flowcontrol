{
 "cells": [
  {
   "cell_type": "code",
   "execution_count": null,
   "id": "f0da5619",
   "metadata": {},
   "outputs": [],
   "source": [
    "import os\n",
    "import copy\n",
    "import json\n",
    "import logging\n",
    "from glob import glob\n",
    "from pathlib import Path\n",
    "\n",
    "from tqdm import tqdm\n",
    "import numpy as np\n",
    "import matplotlib.pyplot as plt\n",
    "from ipywidgets import widgets, interact, Layout\n",
    "\n",
    "from flow_control.servoing.playback_env_servo import PlaybackEnvServo\n",
    "import logging\n",
    "logger = logging.getLogger()\n",
    "logger.setLevel(logging.DEBUG)\n",
    "logging.debug(\"test\")\n",
    "root_dir = \"../tmp/ss_traj_based\"\n",
    "task = \"shape_sorting\"\n",
    "object_selected = \"trapeze\" \n",
    "task_variant = \"rP\"  # rotation plus (+-pi)\n",
    "\n",
    "def get_configurations(root_dir=root_dir, num_episodes=70, prefix=\"\"):\n",
    "    os.makedirs(root_dir, exist_ok=True)\n",
    "    save_dir_template = os.path.join(root_dir, f\"{prefix}_{task}_{object_selected}\")\n",
    "    for seed in range(num_episodes):\n",
    "        save_dir = save_dir_template + f\"_{task_variant}\"+f\"_seed{seed:03d}\"\n",
    "        yield object_selected, seed, save_dir\n",
    "            \n",
    "demo_cfgs = get_configurations(prefix=\"demo\")\n",
    "recordings = []\n",
    "for _, demo_seed, demo_dir in demo_cfgs:\n",
    "    recordings.append(demo_dir)\n",
    "    \n",
    "print(\"Number of recordings:\", len(recordings))\n",
    "print(\"first\", recordings[0])\n",
    "print(\"last \", recordings[-1])"
   ]
  },
  {
   "cell_type": "code",
   "execution_count": null,
   "id": "9f19281b",
   "metadata": {},
   "outputs": [],
   "source": [
    "live_seed, demo_seed = 0, 0\n",
    "demo_dir = recordings[demo_seed]\n",
    "print(f\"live: {live_seed} demo: {demo_seed} @ {demo_dir}\")\n",
    "print()\n",
    "\n",
    "demo = PlaybackEnvServo(demo_dir, load=\"keep\")\n",
    "print(\"demo keep:\", list(demo.keep_dict.keys()))\n",
    "print()\n",
    "\n",
    "demo_parts_fn = os.path.join(root_dir, \"demo_parts_manual3.json\")\n",
    "with open(demo_parts_fn) as f_obj:\n",
    "    demo_parts = json.load(f_obj)\n",
    "\n",
    "demo_keep = sorted(list(demo.keep_dict.keys()))\n",
    "keep_all = copy.copy(demo.keep_dict)\n",
    "keep_parts = {}\n",
    "for p in demo_parts[str(demo_seed)]:\n",
    "    if p[\"start\"] == 0:\n",
    "        p_start = -1\n",
    "    else:\n",
    "        p_start = p[\"start\"]\n",
    "        \n",
    "    parts = []\n",
    "    for demo_index in demo_keep:\n",
    "        if p_start < demo_index and p[\"end\"] >= demo_index:\n",
    "            parts.append(demo_index)\n",
    "    print(p[\"name\"], '\\t', parts)\n",
    "    \n",
    "    keep_parts[p[\"name\"]] = dict([(i, demo.keep_dict[i]) for i in parts])\n",
    "    print(keep_parts[p[\"name\"]])\n",
    "# set keep_dict to first part\n",
    "demo.keep_dict = keep_parts[\"locate\"]\n",
    "#servo_module\n"
   ]
  },
  {
   "cell_type": "code",
   "execution_count": null,
   "id": "5d2b9a23",
   "metadata": {},
   "outputs": [],
   "source": [
    "playbacks = [PlaybackEnvServo(rec, load='all') for rec in recordings[:]]\n",
    "good_demos = [int(key) for key in demo_parts.keys()]\n",
    "demo_good = good_demos"
   ]
  },
  {
   "cell_type": "code",
   "execution_count": null,
   "id": "931c1c6b",
   "metadata": {
    "scrolled": true
   },
   "outputs": [],
   "source": [
    "good_demos"
   ]
  },
  {
   "cell_type": "code",
   "execution_count": null,
   "id": "2335566a",
   "metadata": {},
   "outputs": [],
   "source": [
    "from sklearn.preprocessing import minmax_scale\n",
    "# Load Servoing Module\n",
    "from flow_control.servoing.module import ServoingModule\n",
    "control_config = dict(mode=\"pointcloud-abs-rotz\", threshold=0.40)\n",
    "servo_module = ServoingModule(demo_dir, control_config=control_config,\n",
    "                              start_paused=False)\n",
    "def similarity_from_reprojection(live_rgb, demo_rgb, demo_mask, return_images=False):\n",
    "    # evaluate the similarity via flow reprojection error\n",
    "    flow = servo_module.flow_module.step(demo_rgb, live_rgb)\n",
    "    warped = servo_module.flow_module.warp_image(live_rgb / 255.0, flow)\n",
    "    error = np.linalg.norm((warped - (demo_rgb / 255.0)), axis=2) * demo_mask\n",
    "    error = error.sum() / demo_mask.sum()\n",
    "    mean_flow = np.linalg.norm(flow[demo_mask],axis=1).mean()\n",
    "    if return_images:\n",
    "        return error, mean_flow, flow, warped\n",
    "    return error, mean_flow\n",
    "\n",
    "def normalize_errors(errors, flows, demo_good):\n",
    "    errors_l = errors[demo_good]\n",
    "    mean_flows_l = flows[demo_good]\n",
    "    errors_norm = np.ones(errors.shape)\n",
    "    w = .5\n",
    "    errors_norm[demo_good] = np.mean((1*minmax_scale(errors_l), w*minmax_scale(mean_flows_l)),axis=0)/(1+w) \n",
    "    \n",
    "    return errors_norm"
   ]
  },
  {
   "cell_type": "code",
   "execution_count": null,
   "id": "0a0d0e85",
   "metadata": {},
   "outputs": [],
   "source": [
    "def compute_current_scores(playbacks, current_rgb, demo_parts, demo_good, traj_idx=0, live_seed=0):    \n",
    "    sim_errors = np.ones(len(playbacks)) # lower is better\n",
    "    mean_flows = np.zeros(len(playbacks))\n",
    "\n",
    "    for demo_seed in demo_good:\n",
    "        if traj_idx == 0 and demo_seed == live_seed:\n",
    "            continue\n",
    "        start_idx = demo_parts[str(demo_seed)][traj_idx]['start']\n",
    "        demo_rgb =  playbacks[demo_seed][start_idx].cam.get_image()[0]\n",
    "        demo_mask =  playbacks[demo_seed].fg_masks[start_idx]\n",
    "        error, mean_flow = similarity_from_reprojection(current_rgb, demo_rgb, demo_mask)\n",
    "        sim_errors[demo_seed] = error\n",
    "        mean_flows[demo_seed] = mean_flow\n",
    "    errors_norm = normalize_errors(sim_errors, mean_flows, demo_good)\n",
    "    scores = 1 - errors_norm\n",
    "    \n",
    "    return scores"
   ]
  },
  {
   "cell_type": "code",
   "execution_count": null,
   "id": "ea40124d",
   "metadata": {},
   "outputs": [],
   "source": [
    "import ipdb\n",
    "def split_keypoints(pb, demo_part):\n",
    "    demo_keep = sorted(list(pb.keep_dict.keys()))\n",
    "    keep_all = copy.copy(pb.keep_dict)\n",
    "    keep_parts = {}\n",
    "    for p in demo_part:\n",
    "#         ipdb.set_trace()\n",
    "        if p[\"start\"] == 0:\n",
    "            p_start = -1\n",
    "        else:\n",
    "            p_start = p[\"start\"]\n",
    "\n",
    "        parts = []\n",
    "        for demo_index in demo_keep:\n",
    "            if p_start < demo_index and p[\"end\"] >= demo_index:\n",
    "                parts.append(demo_index)\n",
    "#         print(p[\"name\"], '\\t', parts)\n",
    "        \n",
    "    \n",
    "\n",
    "        keep_parts[p[\"name\"]] = parts\n",
    "    keep_parts['grasp'].append(keep_parts['insert'][0])\n",
    "    return keep_parts\n",
    "\n",
    "keypoint_info = {}\n",
    "# pb_keep = [PlaybackEnvServo(rec, load='keep') for rec in recordings[:]]\n",
    "for demo_seed in good_demos:\n",
    "    keypoint_info[demo_seed] = split_keypoints(playbacks[demo_seed], demo_parts[str(demo_seed)])\n",
    "# keypoint_info = {0: {'locate': [0, 4], 'grasp': [7, 14, 26], 'insert': [26, 31, 37, 42, 44, 47]}}"
   ]
  },
  {
   "cell_type": "code",
   "execution_count": null,
   "id": "5e249f60",
   "metadata": {},
   "outputs": [],
   "source": [
    "demo_parts\n",
    "keypoint_info"
   ]
  },
  {
   "cell_type": "code",
   "execution_count": null,
   "id": "613a4d7b",
   "metadata": {},
   "outputs": [],
   "source": [
    "demo_good = np.array(demo_good)"
   ]
  },
  {
   "cell_type": "code",
   "execution_count": null,
   "id": "7aec8225",
   "metadata": {},
   "outputs": [],
   "source": [
    "from math import pi\n",
    "from flow_control.servoing.module import ServoingModule\n",
    "from gym_grasping.envs.robot_sim_env import RobotSimEnv\n",
    "from flow_control.runner import evaluate_control\n",
    "import ipdb\n",
    "\n",
    "def eval_cmb(playbacks, demo_good, live_seed, demo_parts, keypoint_info, exist_ok=False):\n",
    "    renderer = 'debug'\n",
    "    # Instantiate env\n",
    "    env = RobotSimEnv(task='shape_sorting', renderer=renderer, act_type='continuous',\n",
    "                      initial_pose='close', max_steps=500, control='absolute-full',\n",
    "                      img_size=(256, 256), param_randomize=(\"geom\",), seed=int(live_seed),\n",
    "                      task_info=dict(object_rot_range={\"rP\":pi/2.,\"rR\":pi/6.}[task_variant]))\n",
    "    \n",
    "    traj_map = {0: 'locate', 1: 'grasp', 2: 'insert'}\n",
    "    \n",
    "    \n",
    "    for idx in range(3):\n",
    "        \n",
    "        state, _, _, _ = env.step(None)\n",
    "        current_rgb = state['rgb_gripper']\n",
    "\n",
    "#         current_rgb = np.ones((256, 256, 3))\n",
    "        \n",
    "        scores = compute_current_scores(playbacks, current_rgb, demo_parts, demo_good, traj_idx=idx, live_seed=live_seed)\n",
    "        best_demo_seed = np.argmax(scores)\n",
    "        \n",
    "        best_demo = recordings[best_demo_seed]\n",
    "        kp_info = keypoint_info[best_demo_seed]\n",
    "        kps = kp_info[traj_map[idx]]\n",
    "        \n",
    "#         ipdb.set_trace()\n",
    "        servo_module = ServoingModule(best_demo, control_config=control_config,\n",
    "                                      start_paused=False, plot=False, plot_save_dir=None,\n",
    "                                      load='select', selected_kp=kps)\n",
    "        _, reward, _, info = evaluate_control(env, servo_module, max_steps=130, save_dir=None,\n",
    "                                             initial_align=True if idx == 0 else False)\n",
    "#         ipdb.set_trace()\n",
    "    del env\n",
    "    del servo_module\n",
    "    return reward"
   ]
  },
  {
   "cell_type": "code",
   "execution_count": null,
   "id": "d5c02f15",
   "metadata": {
    "scrolled": true
   },
   "outputs": [],
   "source": [
    "steps = [1, 5, 10, 20, 30, 40, 50, 60]\n",
    "num_live_seeds = 20\n",
    "rewards = np.zeros((num_live_seeds, len(steps)))\n",
    "\n",
    "for live_idx, live_seed in enumerate(good_demos[0:num_live_seeds]):\n",
    "    for step_idx, step_value in enumerate(steps):\n",
    "        step_demo_good = demo_good[0:step_value]\n",
    "        reward = eval_cmb(playbacks, step_demo_good, live_seed, demo_parts, keypoint_info)\n",
    "        rewards[live_idx, step_idx] = reward"
   ]
  },
  {
   "cell_type": "code",
   "execution_count": null,
   "id": "b936fdc7",
   "metadata": {},
   "outputs": [],
   "source": [
    "np.savez('rewards_ss_steps.npz', rewards)"
   ]
  },
  {
   "cell_type": "code",
   "execution_count": null,
   "id": "e3b0230c",
   "metadata": {},
   "outputs": [],
   "source": [
    "import matplotlib.pyplot as plt\n",
    "rew_mean = np.mean(rewards, axis=0)\n",
    "plt.plot(steps, rew_mean, \".-\")\n",
    "plt.xlabel(\"#Recordings\")\n",
    "plt.ylabel(\"Mean Rewards\")\n",
    "plt.title(\"Shape-Sorting Task (Debug Mode)\")\n",
    "plt.savefig('rewards_ss.jpg', dpi=800)"
   ]
  },
  {
   "cell_type": "code",
   "execution_count": null,
   "id": "bc21fd64",
   "metadata": {},
   "outputs": [],
   "source": [
    "renderer = \"debug\"\n",
    "def eval_cmb_single(live_seed, demo_seed, exist_ok=False):\n",
    "    save_dir = f\"{root_dir}_{demo_seed:03d}\"\n",
    "    demo_dir = recordings[demo_seed]\n",
    "#     if Path(save_dir).is_dir():\n",
    "#         if exist_ok:\n",
    "#             shutil.rmtree(save_dir)\n",
    "#         else:\n",
    "#             raise ValueError\n",
    "    servo_module = ServoingModule(demo_dir, control_config=control_config,\n",
    "                                  start_paused=False, plot=False, plot_save_dir=None)\n",
    "    env = RobotSimEnv(task='shape_sorting', renderer=renderer, act_type='continuous',\n",
    "                      initial_pose='close', max_steps=500, control='absolute-full',\n",
    "                      img_size=(256, 256), param_randomize=(\"geom\",), seed=int(live_seed),\n",
    "                      task_info=dict(object_rot_range={\"rP\":pi/2.,\"rR\":pi/6.}[task_variant]))\n",
    "    _, reward, _, info = evaluate_control(env, servo_module,\n",
    "                                          max_steps=130,\n",
    "                                          save_dir=None)\n",
    "    return reward, save_dir"
   ]
  },
  {
   "cell_type": "code",
   "execution_count": null,
   "id": "55abaeb9",
   "metadata": {},
   "outputs": [],
   "source": [
    "single_reward = np.zeros((len(good_demos), len(good_demos)))\n",
    "for d_idx, demo_seed in enumerate(good_demos):\n",
    "    for l_idx, live_seed in enumerate(good_demos):\n",
    "        if live_seed == demo_seed:\n",
    "            continue\n",
    "        reward, _ = eval_cmb_single(live_seed, demo_seed)\n",
    "        single_reward[d_idx, l_idx] = reward"
   ]
  },
  {
   "cell_type": "code",
   "execution_count": null,
   "id": "56112c84",
   "metadata": {},
   "outputs": [],
   "source": [
    "single_reward"
   ]
  },
  {
   "cell_type": "code",
   "execution_count": null,
   "id": "3ac0273c",
   "metadata": {},
   "outputs": [],
   "source": [
    "single_rew_mean = np.mean(single_reward, axis=1)\n",
    "single_rew_mean"
   ]
  },
  {
   "cell_type": "code",
   "execution_count": null,
   "id": "fb538f9c",
   "metadata": {},
   "outputs": [],
   "source": [
    "np.mean(single_rew_mean)"
   ]
  },
  {
   "cell_type": "code",
   "execution_count": null,
   "id": "3abfe4c7",
   "metadata": {},
   "outputs": [],
   "source": [
    "np.std(single_rew_mean)"
   ]
  },
  {
   "cell_type": "code",
   "execution_count": null,
   "id": "b438a205",
   "metadata": {},
   "outputs": [],
   "source": []
  }
 ],
 "metadata": {
  "kernelspec": {
   "display_name": "robot1",
   "language": "python",
   "name": "robot1"
  },
  "language_info": {
   "codemirror_mode": {
    "name": "ipython",
    "version": 3
   },
   "file_extension": ".py",
   "mimetype": "text/x-python",
   "name": "python",
   "nbconvert_exporter": "python",
   "pygments_lexer": "ipython3",
   "version": "3.8.13"
  }
 },
 "nbformat": 4,
 "nbformat_minor": 5
}
