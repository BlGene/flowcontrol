{
 "cells": [
  {
   "cell_type": "markdown",
   "id": "80c1d738",
   "metadata": {},
   "source": [
    "# Demonstration Recording Script\n",
    "\n",
    "This is a script for recording multiple demonstrations based on an environment.\n",
    "\n",
    "`task_variant` can be set to `rR` (rotation reduced) or `rP` (rotation plus).\n",
    "\n",
    "It has some special functions that allow re-orientation of the objects, this is done with the `update_object_orn` funciton, which gets and modifies the object pose."
   ]
  },
  {
   "cell_type": "code",
   "execution_count": 1,
   "id": "78b24e47",
   "metadata": {},
   "outputs": [
    {
     "name": "stderr",
     "output_type": "stream",
     "text": [
      "pybullet build time: May 20 2022 19:44:17\n"
     ]
    },
    {
     "name": "stdout",
     "output_type": "stream",
     "text": [
      "Jupyter environment detected. Enabling Open3D WebVisualizer.\n",
      "[Open3D INFO] WebRTC GUI backend enabled.\n",
      "[Open3D INFO] WebRTCWindowSystem: HTTP handshake server disabled.\n"
     ]
    }
   ],
   "source": [
    "import os\n",
    "import time\n",
    "import json\n",
    "import shutil\n",
    "import unittest\n",
    "import subprocess\n",
    "from pathlib import Path\n",
    "\n",
    "from scipy.spatial.transform import Rotation as R\n",
    "\n",
    "from gym_grasping.envs.robot_sim_env import RobotSimEnv\n",
    "from flow_control.demo.demo_episode_recorder import record_sim\n",
    "from flow_control.runner import evaluate_control\n",
    "from flow_control.servoing.module import ServoingModule\n",
    "\n",
    "root_dir = \"/tmp/flow_experiments3\"\n",
    "renderer = \"debug\"\n",
    "task=\"shape_sorting\"\n",
    "object_selected = \"trapeze\"\n",
    "task_variant = \"rP\"  # rotation plus (+-pi)\n",
    "\n",
    "def get_configurations(root_dir=root_dir, num_episodes=20, prefix=\"\"):\n",
    "    os.makedirs(root_dir, exist_ok=True)\n",
    "    save_dir_template = os.path.join(root_dir, f\"{prefix}_{task}_{object_selected}\")\n",
    "    for seed in range(num_episodes):\n",
    "        save_dir = save_dir_template + f\"_{task_variant}\"+f\"_seed{seed:03d}\"\n",
    "        yield object_selected, task_variant, seed, save_dir"
   ]
  },
  {
   "cell_type": "markdown",
   "id": "adb3562e",
   "metadata": {},
   "source": [
    "# Record Episodes\n"
   ]
  },
  {
   "cell_type": "code",
   "execution_count": 2,
   "id": "1b9fda37",
   "metadata": {},
   "outputs": [
    {
     "name": "stderr",
     "output_type": "stream",
     "text": [
      "/home/buechner/venvs/servo/lib/python3.8/site-packages/gym-0.26.2-py3.8.egg/gym/spaces/box.py:127: UserWarning: \u001b[33mWARN: Box bound precision lowered by casting to float32\u001b[0m\n",
      "  logger.warn(f\"Box bound precision lowered by casting to {self.dtype}\")\n"
     ]
    },
    {
     "ename": "TypeError",
     "evalue": "step() missing 1 required positional argument: 'info'",
     "output_type": "error",
     "traceback": [
      "\u001b[0;31m---------------------------------------------------------------------------\u001b[0m",
      "\u001b[0;31mTypeError\u001b[0m                                 Traceback (most recent call last)",
      "Cell \u001b[0;32mIn[2], line 34\u001b[0m\n\u001b[1;32m     31\u001b[0m \u001b[38;5;28;01mif\u001b[39;00m os\u001b[38;5;241m.\u001b[39mpath\u001b[38;5;241m.\u001b[39misdir(save_dir):\n\u001b[1;32m     32\u001b[0m     \u001b[38;5;66;03m# lsof file if there are NSF issues.\u001b[39;00m\n\u001b[1;32m     33\u001b[0m     shutil\u001b[38;5;241m.\u001b[39mrmtree(save_dir)\n\u001b[0;32m---> 34\u001b[0m \u001b[43mrecord_sim\u001b[49m\u001b[43m(\u001b[49m\u001b[43menv\u001b[49m\u001b[43m,\u001b[49m\u001b[43m \u001b[49m\u001b[43msave_dir\u001b[49m\u001b[43m)\u001b[49m\n\u001b[1;32m     36\u001b[0m \u001b[38;5;28;01mdel\u001b[39;00m env\n\u001b[1;32m     37\u001b[0m time\u001b[38;5;241m.\u001b[39msleep(\u001b[38;5;241m.5\u001b[39m)\n",
      "File \u001b[0;32m~/servoing/flowcontrol/flow_control/demo/demo_episode_recorder.py:64\u001b[0m, in \u001b[0;36mrecord_sim\u001b[0;34m(env, save_dir, mouse, max_episode_len, save_first_action)\u001b[0m\n\u001b[1;32m     62\u001b[0m obs, rew, done, info \u001b[38;5;241m=\u001b[39m env\u001b[38;5;241m.\u001b[39mstep(action)\n\u001b[1;32m     63\u001b[0m cmb_info \u001b[38;5;241m=\u001b[39m {\u001b[38;5;241m*\u001b[39m\u001b[38;5;241m*\u001b[39minfo, \u001b[38;5;241m*\u001b[39m\u001b[38;5;241m*\u001b[39mp_info}\n\u001b[0;32m---> 64\u001b[0m \u001b[43mrec\u001b[49m\u001b[38;5;241;43m.\u001b[39;49m\u001b[43mstep\u001b[49m\u001b[43m(\u001b[49m\u001b[43msave_action\u001b[49m\u001b[43m,\u001b[49m\u001b[43m \u001b[49m\u001b[43mobs\u001b[49m\u001b[43m,\u001b[49m\u001b[43m \u001b[49m\u001b[43mrew\u001b[49m\u001b[43m,\u001b[49m\u001b[43m \u001b[49m\u001b[43mdone\u001b[49m\u001b[43m,\u001b[49m\u001b[43m \u001b[49m\u001b[43mcmb_info\u001b[49m\u001b[43m)\u001b[49m\n\u001b[1;32m     66\u001b[0m \u001b[38;5;28;01mif\u001b[39;00m done:\n\u001b[1;32m     67\u001b[0m     \u001b[38;5;28;01mbreak\u001b[39;00m\n",
      "\u001b[0;31mTypeError\u001b[0m: step() missing 1 required positional argument: 'info'"
     ]
    }
   ],
   "source": [
    "from math import pi\n",
    "\n",
    "# def update_object_orn(env, object_selected, new_orn):\n",
    "#     object_uid = env._task.object_uids[object_selected]\n",
    "#     object_pos, object_orn = env.p.getBasePositionAndOrientation(object_uid)\n",
    "#     print(\"pos & orn\", object_pos, object_orn)\n",
    "    \n",
    "#     env.p.resetBasePositionAndOrientation(object_uid, object_pos, new_orn,\n",
    "#                                           physicsClientId=env.cid)\n",
    "\n",
    "#     object_pos, object_orn = env.p.getBasePositionAndOrientation(object_uid)\n",
    "#     print(\"pos & orn2\", object_pos, object_orn)\n",
    "\n",
    "demo_cfgs = get_configurations(prefix=\"demo\")\n",
    "for object_selected, task_variant, seed, save_dir in demo_cfgs:\n",
    "    param_info = {\"object_selected\": object_selected}\n",
    "    env = RobotSimEnv(task='shape_sorting', renderer=renderer, act_type='continuous',\n",
    "                      initial_pose='close', max_steps=200, control='absolute-full',\n",
    "                      img_size=(256, 256),\n",
    "                      param_randomize=(\"geom\",),\n",
    "                      param_info=param_info,\n",
    "                      task_info=dict(object_rot_range={\"rP\":pi/2.,\"rR\":pi/6.}[task_variant]),\n",
    "                      seed=seed)\n",
    "    \n",
    "    if task_variant == \"rP\":\n",
    "        assert env.params.variables[f\"{object_selected}_pose\"][\"d\"][3] == pi/2.\n",
    "    elif task_variant == \"rR\":\n",
    "        assert env.params.variables[f\"{object_selected}_pose\"][\"d\"][3] == pi/6.\n",
    "    #update_object_orn(env, object_selected, orn)\n",
    "        \n",
    "    if os.path.isdir(save_dir):\n",
    "        # lsof file if there are NSF issues.\n",
    "        shutil.rmtree(save_dir)\n",
    "    record_sim(env, save_dir)\n",
    "    \n",
    "    del env\n",
    "    time.sleep(.5)\n",
    "    print(save_dir)"
   ]
  },
  {
   "cell_type": "code",
   "execution_count": null,
   "id": "b0cd3227",
   "metadata": {},
   "outputs": [],
   "source": [
    "# Convert notebook to script\n",
    "convert_cmd = \"jupyter nbconvert --to script Demonstration_Viewer.ipynb\"\n",
    "convert_cmd = convert_cmd.split()\n",
    "subprocess.run(convert_cmd, check=True)\n",
    "\n",
    "for _, _, seed, save_dir in get_configurations(prefix=\"demo\"):\n",
    "    segment_cmd = f\"python ./Demonstration_Viewer.py {save_dir}\"\n",
    "    subprocess.run(segment_cmd.split(), check=True)\n",
    "\n",
    "# Cleanup, don't leave file lying around because e.g. github PEP check\n",
    "os.remove(\"./Demonstration_Viewer.py\")"
   ]
  },
  {
   "cell_type": "markdown",
   "id": "dd03efdb",
   "metadata": {},
   "source": [
    "## Show Recorded Demos. "
   ]
  },
  {
   "cell_type": "code",
   "execution_count": null,
   "id": "bad957e1",
   "metadata": {},
   "outputs": [],
   "source": [
    "from flow_control.servoing.playback_env_servo import PlaybackEnvServo\n",
    "\n",
    "demo_cfgs = get_configurations(prefix=\"demo\")\n",
    "recordings = []\n",
    "for _, _, demo_seed, demo_dir in demo_cfgs:\n",
    "    recordings.append(demo_dir)\n",
    "    \n",
    "print(\"Number of recordings:\", len(recordings))\n",
    "print(recordings[0])\n",
    "print(recordings[-1])\n",
    "# Load the demonstration episodes\n",
    "playbacks = [PlaybackEnvServo(rec) for rec in recordings[:]]"
   ]
  },
  {
   "cell_type": "code",
   "execution_count": null,
   "id": "384b7fd0",
   "metadata": {},
   "outputs": [],
   "source": [
    "import numpy as np\n",
    "import matplotlib.pyplot as plt\n",
    "from ipywidgets import widgets, interact, Layout\n",
    "\n",
    "# Plot the demonstrations\n",
    "%matplotlib notebook\n",
    "fig, ax = plt.subplots(1,figsize=(8, 6))\n",
    "fig.suptitle(\"Demonstration Frames\")\n",
    "ax.set_axis_off()\n",
    "image_h = ax.imshow(playbacks[0].cam.get_image()[0])\n",
    "\n",
    "def update(demo_index, frame_index):\n",
    "    image = playbacks[demo_index][frame_index].cam.get_image()[0]\n",
    "    image_h.set_data(image)\n",
    "    fig.canvas.draw_idle()\n",
    "    print(\"wp_name:\", playbacks[demo_index][frame_index].get_info()[\"wp_name\"])\n",
    "    print(playbacks[demo_index][frame_index].get_info()[\"move_anchor\"])\n",
    "    \n",
    "    fg_mask = playbacks[demo_index].get_fg_mask()\n",
    "    if fg_mask is not None:\n",
    "        print(\"percent fg @ 0:\", np.mean(fg_mask)*100)\n",
    "    \n",
    "slider_w = widgets.IntSlider(min=0, max=len(playbacks)-1, step=1, value=0,\n",
    "                             layout=Layout(width='70%'))\n",
    "slider_i = widgets.IntSlider(min=0, max=200-1, step=1, value=0,\n",
    "                             layout=Layout(width='70%'))\n",
    "\n",
    "interact(update, demo_index=slider_w, frame_index=slider_i)"
   ]
  },
  {
   "cell_type": "code",
   "execution_count": null,
   "id": "32684a82",
   "metadata": {},
   "outputs": [],
   "source": [
    "def filter_demo(pb):\n",
    "    return pb[-1].data['rew'] > 0 and np.mean(pb.get_fg_mask()) > 0.005\n",
    "\n",
    "demo_good = [filter_demo(pb) for pb in playbacks]\n",
    "good_demonstrations = np.where(demo_good)[0]\n",
    "print(good_demonstrations)\n",
    "good_demonstrations = [int(x) for x in good_demonstrations]\n",
    "\n",
    "#print(np.array(demo_good).astype(int))"
   ]
  },
  {
   "cell_type": "markdown",
   "id": "98e26e4e",
   "metadata": {},
   "source": [
    "## Segment Demonstration into Parts\n",
    "\n",
    "This is done via the waypoint names, which have the following format `<block-name>_<detail-descr>`.\n",
    "We group `block-name` together and apply block_name_map to group blocks."
   ]
  },
  {
   "cell_type": "code",
   "execution_count": null,
   "id": "053acea0",
   "metadata": {},
   "outputs": [],
   "source": [
    "from itertools import tee\n",
    "block_name_map, parts_name = {'start': 'locate'}, \"manual3\"\n",
    "#block_name_map, parts_name = {'start': 'locate', 'grasp': 'locate'}, \"manual2\"\n",
    "\n",
    "def get_block_name(wp_name, block_map):\n",
    "    block_name = wp_name.split(\"_\")[0]\n",
    "    if block_name in block_map:\n",
    "        return block_map[block_name]\n",
    "    return block_name\n",
    "\n",
    "def pairwise(iterable):\n",
    "    # pairwise('ABCDEFG') --> AB BC CD DE EF FG\n",
    "    a, b = tee(iterable)\n",
    "    next(b, None)\n",
    "    return zip(a, b)\n",
    "\n",
    "demo_parts = {}\n",
    "for demo_index in good_demonstrations:\n",
    "    wp_names = []\n",
    "    for frame_index in range(len(playbacks[demo_index])-1):\n",
    "        wp_name = playbacks[demo_index][frame_index].get_info()[\"wp_name\"]\n",
    "        wp_names.append(wp_name)\n",
    "        \n",
    "    block_names = np.array([get_block_name(wp, block_name_map) for wp in wp_names])\n",
    "    transitions = np.where(block_names[1:] != block_names[:-1])[0]\n",
    "    print(transitions)\n",
    "    for i in range(len(transitions)+1):\n",
    "        if i == 0:\n",
    "            pass\n",
    "    trn_name = [*block_names[transitions],  block_names[transitions[-1]+1]]\n",
    "    trn_idx = pairwise([0,*transitions, len(playbacks[demo_index])-1])\n",
    "    \n",
    "    ep_demo_parts = []\n",
    "    for name, trn in zip(trn_name, trn_idx):\n",
    "        ep_demo_parts.append(dict(name=name, start=int(trn[0]), end=int(trn[1])))\n",
    "    demo_parts[demo_index] = ep_demo_parts\n",
    "    print(ep_demo_parts)\n",
    "\n",
    "print(f\"Demo Parts (demo={demo_index}):\")\n",
    "for e in ep_demo_parts:\n",
    "    print(f\"{e['name']}:\\t{e['start']:02d}->{e['end']:02d}\")\n",
    "\n",
    "demo_parts_fn = os.path.join(root_dir, f\"demo_parts_{parts_name}.json\")\n",
    "with open(demo_parts_fn, \"w\") as f_obj:\n",
    "    json.dump(demo_parts, f_obj)\n",
    "    \n",
    "print(\"saved demo parts to :\", demo_parts_fn)"
   ]
  },
  {
   "cell_type": "code",
   "execution_count": null,
   "id": "f5be04d4",
   "metadata": {},
   "outputs": [],
   "source": [
    "# Plot the end of segments\n",
    "%matplotlib notebook\n",
    "max_ep_parts = max([len(ep_parts) for ep_parts in demo_parts.values()])\n",
    "\n",
    "fig, (ax, ax2) = plt.subplots(1,2,figsize=(8, 6))\n",
    "fig.suptitle(\"Show Demonstration Parts\")\n",
    "ax.set_axis_off()\n",
    "ax2.set_axis_off()\n",
    "image_h = ax.imshow(playbacks[0].cam.get_image()[0])\n",
    "image_h2 = ax2.imshow(playbacks[0].cam.get_image()[0])\n",
    "\n",
    "max_frames = max([len(b) for b in demo_parts.values()])\n",
    "def update(demo_ep, part_idx):\n",
    "    demo_index = list(demo_parts.keys())[demo_ep]\n",
    "    demo_name = demo_parts[demo_index][part_idx][\"name\"]\n",
    "    start_index = demo_parts[demo_index][part_idx][\"start\"]\n",
    "    end_index = demo_parts[demo_index][part_idx][\"end\"]\n",
    "    ax.set_title(f\"{demo_name}: start @ {demo_index}, {start_index}\")\n",
    "    ax2.set_title(f\"{demo_name}: end @ {demo_index}, {end_index}\")\n",
    "    \n",
    "    image = playbacks[demo_index][start_index].cam.get_image()[0]\n",
    "    image_h.set_data(image)\n",
    "    image2 = playbacks[demo_index][end_index].cam.get_image()[0]\n",
    "    image_h2.set_data(image2)\n",
    "    fig.canvas.draw_idle()\n",
    "\n",
    "    print(\"wp_name:\", playbacks[demo_index][start_index].get_info()[\"wp_name\"])\n",
    "    \n",
    "slider_w = widgets.IntSlider(min=0, max=len(demo_parts)-1, step=1, value=0,\n",
    "                             layout=Layout(width='70%'))\n",
    "\n",
    "slider_i = widgets.IntSlider(min=0, max=max_ep_parts-1, step=1, value=0,\n",
    "                             layout=Layout(width='70%'))\n",
    "\n",
    "interact(update, demo_ep=slider_w, part_idx=slider_i)\n",
    "plt.tight_layout()\n",
    "plt.show()"
   ]
  },
  {
   "cell_type": "markdown",
   "id": "106c931a",
   "metadata": {},
   "source": [
    "### Check if the block size is still randomized"
   ]
  },
  {
   "cell_type": "code",
   "execution_count": null,
   "id": "314dc637",
   "metadata": {},
   "outputs": [],
   "source": []
  }
 ],
 "metadata": {
  "kernelspec": {
   "display_name": "Python 3 (ipykernel)",
   "language": "python",
   "name": "python3"
  },
  "language_info": {
   "codemirror_mode": {
    "name": "ipython",
    "version": 3
   },
   "file_extension": ".py",
   "mimetype": "text/x-python",
   "name": "python",
   "nbconvert_exporter": "python",
   "pygments_lexer": "ipython3",
   "version": "3.8.0"
  }
 },
 "nbformat": 4,
 "nbformat_minor": 5
}
