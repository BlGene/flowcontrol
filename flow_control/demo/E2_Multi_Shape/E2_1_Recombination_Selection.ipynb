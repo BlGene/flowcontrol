{
 "cells": [
  {
   "cell_type": "markdown",
   "id": "b22c63db",
   "metadata": {},
   "source": [
    "# Computing scores for recombination\n",
    "\n",
    "Before you run this notebook, you should have already run:\n",
    "1. E2_0_Record_and_Segment.ipynb\n",
    "\n",
    "The generated demonstrations are stored in a directory which will be used here\n",
    "\n",
    "This notebook does the following:\n",
    "1. Compute the error matrix between demonstration parts(2 part case)\n",
    "2. Compute errors of the last part of a demonstration with respect to the goal image"
   ]
  },
  {
   "cell_type": "code",
   "execution_count": null,
   "id": "f1edd74f",
   "metadata": {},
   "outputs": [],
   "source": [
    "import os\n",
    "import copy\n",
    "import time\n",
    "import json\n",
    "import shutil\n",
    "import unittest\n",
    "import subprocess\n",
    "from pathlib import Path\n",
    "import numpy as np\n",
    "\n",
    "from scipy.spatial.transform import Rotation as R\n",
    "\n",
    "from gym_grasping.envs.robot_sim_env import RobotSimEnv\n",
    "from flow_control.demo.demo_episode_recorder import record_sim\n",
    "from flow_control.runner import evaluate_control\n",
    "from flow_control.servoing.module import ServoingModule\n",
    "from flow_control.servoing.playback_env_servo import PlaybackEnvServo\n",
    "import matplotlib.pyplot as plt\n",
    "from ipywidgets import widgets, interact, Layout\n",
    "import seaborn as sns\n",
    "from tqdm import tqdm\n",
    "import getpass\n",
    "\n",
    "%matplotlib inline\n",
    "\n",
    "experiment = \"multi_shape\"\n",
    "goal = \"multi_shape_goal\"\n",
    "\n",
    "def get_data_dir():\n",
    "    username = getpass.getuser()\n",
    "    if username == \"argusm\":\n",
    "        return \"/tmp/flow_experiments3\"\n",
    "    elif username == \"nayakab\":\n",
    "        return \"../tmp\"\n",
    "\n",
    "data_dir = get_data_dir()\n",
    "\n",
    "root_dir = os.path.join(data_dir, experiment)\n",
    "goal_dir = os.path.join(data_dir, goal)"
   ]
  },
  {
   "cell_type": "markdown",
   "id": "09a2b139",
   "metadata": {},
   "source": [
    "## Load all demonstrations "
   ]
  },
  {
   "cell_type": "code",
   "execution_count": null,
   "id": "b439e11a",
   "metadata": {},
   "outputs": [],
   "source": [
    "def get_recordings(directory):\n",
    "    return sorted([os.path.join(directory, rec) for rec in os.listdir(directory) if os.path.isdir(os.path.join(directory, rec))])\n",
    "\n",
    "recordings = get_recordings(root_dir)\n",
    "goal_recordings = get_recordings(goal_dir)"
   ]
  },
  {
   "cell_type": "code",
   "execution_count": null,
   "id": "10bc63e6",
   "metadata": {},
   "outputs": [],
   "source": [
    "# Load the demonstration episodes\n",
    "playbacks = [PlaybackEnvServo(rec) for rec in recordings[:]]\n",
    "\n",
    "# Plot the demonstrations\n",
    "%matplotlib notebook\n",
    "fig, ax = plt.subplots(1,figsize=(8, 6))\n",
    "fig.suptitle(\"Demonstration Frames\")\n",
    "ax.set_axis_off()\n",
    "image_h = ax.imshow(playbacks[0].cam.get_image()[0])\n",
    "\n",
    "def update(demo_index, frame_index):\n",
    "    image = playbacks[demo_index][frame_index].cam.get_image()[0]\n",
    "    image_h.set_data(image)\n",
    "    fig.canvas.draw_idle()\n",
    "    print(\"wp_name:\", playbacks[demo_index][frame_index].get_info()[\"wp_name\"])\n",
    "    fg_mask = playbacks[demo_index].get_fg_mask()\n",
    "    if fg_mask is not None:\n",
    "        print(\"percent fg:\", np.mean(fg_mask)*100)\n",
    "    \n",
    "slider_w = widgets.IntSlider(min=0, max=len(playbacks)-1, step=1, value=0,\n",
    "                             layout=Layout(width='70%'))\n",
    "slider_i = widgets.IntSlider(min=0, max=200-1, step=1, value=0,\n",
    "                             layout=Layout(width='70%'))\n",
    "\n",
    "interact(update, demo_index=slider_w, frame_index=slider_i)"
   ]
  },
  {
   "cell_type": "code",
   "execution_count": null,
   "id": "8917daed",
   "metadata": {},
   "outputs": [],
   "source": [
    "def filter_demo(pb):\n",
    "    return pb[-1].data['rew'] > 0 and np.mean(pb.get_fg_mask()) > 0.005\n",
    "\n",
    "demo_good = [filter_demo(pb) for pb in playbacks]\n",
    "good_demonstrations = np.where(demo_good)[0]\n",
    "good_demonstrations = [int(x) for x in good_demonstrations]"
   ]
  },
  {
   "cell_type": "code",
   "execution_count": null,
   "id": "cd8c86cc",
   "metadata": {},
   "outputs": [],
   "source": [
    "# Load demo segmentation file\n",
    "demo_seg_file = f'{root_dir}/demo_parts_manual2.json'\n",
    "fp = open(demo_seg_file)\n",
    "demo_parts = json.load(fp)\n",
    "live_indices = [int(key) for key in demo_parts.keys()]"
   ]
  },
  {
   "cell_type": "code",
   "execution_count": null,
   "id": "12ab6eff",
   "metadata": {},
   "outputs": [],
   "source": [
    "# Servo Module\n",
    "# Load Servoing Module\n",
    "from flow_control.servoing.module import ServoingModule\n",
    "control_config = dict(mode=\"pointcloud-abs-rotz\", threshold=0.40)\n",
    "servo_module = ServoingModule(recordings[0], control_config=control_config,\n",
    "                              start_paused=False)"
   ]
  },
  {
   "cell_type": "code",
   "execution_count": null,
   "id": "b80aae3e",
   "metadata": {},
   "outputs": [],
   "source": [
    "def similarity_from_reprojection(live_rgb, demo_rgb, demo_mask, return_images=False):\n",
    "    # evaluate the similarity via flow reprojection error\n",
    "    flow = servo_module.flow_module.step(demo_rgb, live_rgb)\n",
    "    warped = servo_module.flow_module.warp_image(live_rgb / 255.0, flow)\n",
    "    diff = (warped - (demo_rgb / 255.0))\n",
    "    error = np.linalg.norm((warped - (demo_rgb / 255.0)), axis=2) * demo_mask\n",
    "    error = error.sum() / demo_mask.sum()\n",
    "    mean_flow = np.linalg.norm(flow[demo_mask],axis=1).mean()\n",
    "    if return_images:\n",
    "        return error, mean_flow, flow, warped\n",
    "    return error, mean_flow"
   ]
  },
  {
   "cell_type": "code",
   "execution_count": null,
   "id": "a101ca1d",
   "metadata": {},
   "outputs": [],
   "source": [
    "from sklearn.preprocessing import minmax_scale\n",
    "\n",
    "def normalize_errors(errors, flows):\n",
    "    errors_l = errors[demo_good]\n",
    "    mean_flows_l = flows[demo_good]\n",
    "    errors_norm = np.ones(errors.shape)\n",
    "    w = 0.5\n",
    "    errors_norm[demo_good] = np.mean((1*minmax_scale(errors_l), w*minmax_scale(mean_flows_l)),axis=0)/(1+w)\n",
    "    return errors_norm"
   ]
  },
  {
   "cell_type": "markdown",
   "id": "51bbcc41",
   "metadata": {},
   "source": [
    "## Error matrix between demonstration parts "
   ]
  },
  {
   "cell_type": "code",
   "execution_count": null,
   "id": "a5543106",
   "metadata": {},
   "outputs": [],
   "source": [
    "import seaborn as sns\n",
    "\n",
    "error_matrix = np.ones((len(playbacks), len(playbacks)))\n",
    "flow_matrix = np.zeros((len(playbacks), len(playbacks)))\n",
    "\n",
    "for k1, v1 in tqdm(demo_parts.items()):\n",
    "    demo_i1 = int(k1)\n",
    "    im1 = playbacks[demo_i1][v1[0]['end']].cam.get_image()[0]\n",
    "    for k2, v2 in demo_parts.items():\n",
    "        demo_i2 = int(k2)      \n",
    "        im2 = playbacks[demo_i2][v2[1]['start']].cam.get_image()[0]\n",
    "        mask2 = playbacks[demo_i2].fg_masks[v2[1]['start']]\n",
    "        \n",
    "        error, flow = similarity_from_reprojection(im1, im2, mask2)\n",
    "        error_matrix[demo_i1, demo_i2] = error\n",
    "        flow_matrix[demo_i1, demo_i2] = flow\n",
    "\n",
    "error_matrix_norm = normalize_errors(error_matrix, flow_matrix)\n",
    "np.savez(f\"{root_dir}/error_matrix.npz\", error_matrix_norm)\n",
    "\n",
    "sns.heatmap(1 - error_matrix_norm)"
   ]
  },
  {
   "cell_type": "markdown",
   "id": "b8aec678",
   "metadata": {},
   "source": [
    "## Errors with respect to goal image\n",
    "We use a hacky function to update the segmentation mask of the goal image.\n",
    "Additionally, we store errors for goal frames of all availbale shapes in their respective npz files"
   ]
  },
  {
   "cell_type": "code",
   "execution_count": null,
   "id": "5b3e0798",
   "metadata": {},
   "outputs": [],
   "source": [
    "from robot_io.recorder.simple_recorder import unprocess_seg\n",
    "\n",
    "errors_rear = np.ones((len(playbacks), 1))\n",
    "flows_rear = np.zeros((len(playbacks), 1))\n",
    "\n",
    "for goal_rec in goal_recordings:\n",
    "    if 'trapeze' in goal_rec:\n",
    "        obj = 'trapeze'\n",
    "        object_name = \"Trapezium_Sort_Box\"\n",
    "    elif 'oval' in goal_rec:\n",
    "        obj = 'oval'\n",
    "        object_name = \"Oval_Sort_Box\"\n",
    "        \n",
    "    goal_pl = PlaybackEnvServo(goal_rec)\n",
    "\n",
    "    info = goal_pl[-1].get_info()\n",
    "    print(info.keys())\n",
    "    name2uid = {}\n",
    "    for i in range(10):\n",
    "        i = str(i)\n",
    "        if i not in info.keys():\n",
    "            continue\n",
    "        name2uid[info[i][\"name\"]] = info[i][\"UID\"]\n",
    "    print(name2uid)\n",
    "    obj_uid = int(name2uid[object_name])\n",
    "    srf_uid = int(name2uid[\"surface_red\"])\n",
    "    seg_mask = info[\"seg_mask\"]\n",
    "    seg_obj, _ = unprocess_seg(seg_mask)\n",
    "    \n",
    "    # Get Goal Mask - insertion surface and object\n",
    "    goal_mask = np.logical_or(seg_obj == obj_uid, seg_obj == srf_uid)\n",
    "    \n",
    "    # Get Goal RGB image\n",
    "    goal_rgb = goal_pl[-1].cam.get_image()[0]\n",
    "\n",
    "    for k1, v1 in demo_parts.items():\n",
    "        demo_i1 = int(k1)\n",
    "        im1 = playbacks[demo_i1][v1[1]['end']].cam.get_image()[0]\n",
    "        error, flow = similarity_from_reprojection(im1, goal_rgb, goal_mask)\n",
    "        errors_rear[demo_i1] = error\n",
    "        flows_rear[demo_i1] = flow\n",
    "\n",
    "    errors_rear_norm = normalize_errors(errors_rear, flows_rear)\n",
    "    np.savez(f\"{root_dir}/errors_rear_{obj}.npz\", errors_rear_norm)"
   ]
  },
  {
   "cell_type": "code",
   "execution_count": null,
   "id": "366b825b",
   "metadata": {},
   "outputs": [],
   "source": [
    "# Plot the demonstrations\n",
    "%matplotlib notebook\n",
    "fig, ax = plt.subplots(1,figsize=(8, 6))\n",
    "fig.suptitle(\"Demonstration Frames\")\n",
    "ax.set_axis_off()\n",
    "image_h = ax.imshow(playbacks[0][-1].cam.get_image()[0])\n",
    "\n",
    "def update(demo_index):\n",
    "    image = playbacks[demo_index][-1].cam.get_image()[0]\n",
    "    image_h.set_data(image)\n",
    "    fig.canvas.draw_idle()\n",
    "    print(f\"Error: {errors_rear[demo_index]}, Error Norm: {errors_rear_norm[demo_index]}\")\n",
    "    print(playbacks[demo_index][-1].data['rew'])\n",
    "    print(f\"Good Demo: {demo_good[demo_index]}\")\n",
    "    \n",
    "slider_w = widgets.IntSlider(min=0, max=len(playbacks)-1, step=1, value=0,\n",
    "                             layout=Layout(width='70%'))\n",
    "\n",
    "interact(update, demo_index=slider_w, frame_index=slider_i)"
   ]
  }
 ],
 "metadata": {
  "kernelspec": {
   "display_name": "robot1",
   "language": "python",
   "name": "robot1"
  },
  "language_info": {
   "codemirror_mode": {
    "name": "ipython",
    "version": 3
   },
   "file_extension": ".py",
   "mimetype": "text/x-python",
   "name": "python",
   "nbconvert_exporter": "python",
   "pygments_lexer": "ipython3",
   "version": "3.8.13"
  }
 },
 "nbformat": 4,
 "nbformat_minor": 5
}
