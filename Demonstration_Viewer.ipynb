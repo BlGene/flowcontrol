{
 "cells": [
  {
   "cell_type": "code",
   "execution_count": null,
   "metadata": {},
   "outputs": [],
   "source": [
    "%matplotlib notebook\n",
    "from ipywidgets import *\n",
    "import numpy as np\n",
    "import matplotlib.pyplot as plt\n",
    "\n",
    "flow_recording_fn = \"../flow_control/bolt_recordings/episode_1/episode_1_img.npz\"\n",
    "flow_recording = np.load(flow_recording_fn)[\"img\"]\n",
    "\n",
    "num_frames = flow_recording.shape[0]-1\n",
    "\n",
    "\n",
    "x = np.linspace(0, 2 * np.pi)\n",
    "fig = plt.figure()\n",
    "ax = fig.add_subplot(1, 1, 1)\n",
    "line = ax.imshow(flow_recording[0])\n",
    "ax.set_axis_off()\n",
    "\n",
    "def update(w):\n",
    "    line.set_data(flow_recording[w])\n",
    "    fig.canvas.draw_idle()\n",
    "    \n",
    "slider_w = widgets.IntSlider(min=0,max=num_frames,step=1,value=0,\n",
    "                             layout=Layout(width='70%'))\n",
    "interact(update,w=slider_w)"
   ]
  },
  {
   "cell_type": "code",
   "execution_count": null,
   "metadata": {},
   "outputs": [],
   "source": []
  }
 ],
 "metadata": {
  "kernelspec": {
   "display_name": "Python 3",
   "language": "python",
   "name": "python3"
  },
  "language_info": {
   "codemirror_mode": {
    "name": "ipython",
    "version": 3
   },
   "file_extension": ".py",
   "mimetype": "text/x-python",
   "name": "python",
   "nbconvert_exporter": "python",
   "pygments_lexer": "ipython3",
   "version": "3.6.8"
  }
 },
 "nbformat": 4,
 "nbformat_minor": 2
}
