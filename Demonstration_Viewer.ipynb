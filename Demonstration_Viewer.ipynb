{
 "cells": [
  {
   "cell_type": "markdown",
   "metadata": {},
   "source": [
    "# Demonstration View\n",
    "\n",
    "View a demonstration by sliding through the frames.\n",
    "This also plots the z height."
   ]
  },
  {
   "cell_type": "code",
   "execution_count": null,
   "metadata": {},
   "outputs": [],
   "source": [
    "%matplotlib notebook\n",
    "from ipywidgets import *\n",
    "import numpy as np\n",
    "import matplotlib.pyplot as plt\n",
    "\n",
    "#recording = \"bolt_recordings/episode_3\"\n",
    "recording = \"stack_recordings/episode_118\"\n",
    "\n",
    "state_recording_fn = \"./{}/episode_1.npz\".format(recording)\n",
    "state_recording = np.load(state_recording_fn)\n",
    "ee_positions = state_recording[\"ee_positions\"]\n",
    "flow_recording_fn = \"./{}/episode_1_img.npz\".format(recording)\n",
    "flow_recording = np.load(flow_recording_fn)[\"img\"]\n",
    "\n",
    "num_frames = flow_recording.shape[0]-1\n",
    "\n",
    "\n",
    "x = np.linspace(0, 2 * np.pi)\n",
    "fig, (ax,ax2) = plt.subplots(2,1)\n",
    "line = ax.imshow(flow_recording[0])\n",
    "ax.set_axis_off()\n",
    "\n",
    "#ax2.plot(ee_positions[:,0],label=\"x\")\n",
    "#ax2.plot(ee_positions[:,1],label=\"y\")\n",
    "ax2.plot(ee_positions[:,2],label=\"z\")\n",
    "ax2.set_ylabel(\"z position\")\n",
    "ax2.set_xlabel(\"frame number\")\n",
    "vline = ax2.axvline(x=2,color=\"k\")\n",
    "ax2.legend()\n",
    "\n",
    "def update(w):\n",
    "    vline.set_data([w,w],[0,1])\n",
    "    line.set_data(flow_recording[w])\n",
    "    fig.canvas.draw_idle()\n",
    "    \n",
    "slider_w = widgets.IntSlider(min=0,max=num_frames,step=1,value=0,\n",
    "                             layout=Layout(width='70%'))\n",
    "interact(update,w=slider_w)"
   ]
  },
  {
   "cell_type": "markdown",
   "metadata": {},
   "source": [
    "# Mask View\n",
    "\n",
    "Mask out the foreground object so that foreground specific flow can be calculated."
   ]
  },
  {
   "cell_type": "code",
   "execution_count": null,
   "metadata": {},
   "outputs": [],
   "source": [
    "fig, ax = plt.subplots(1,1)\n",
    "line = ax.imshow(flow_recording[25])\n",
    "ax.set_axis_off()\n",
    "\n",
    "def get_mask(frame, threshold, color_index=2):\n",
    "    image = frame.copy()\n",
    "    tmp = image[:,:,color_index] / np.linalg.norm(image,axis=2) \n",
    "    mask = tmp > threshold\n",
    "    return mask\n",
    "\n",
    "def update(w,i):\n",
    "    vline.set_data([w,w],[0,1])\n",
    "    image = flow_recording[i].copy()\n",
    "    mask = get_mask(image, w/100)\n",
    "    image[np.logical_not(mask)] = 255,255,255\n",
    "    line.set_data(image)\n",
    "    fig.canvas.draw_idle()\n",
    "    \n",
    "slider_w = widgets.IntSlider(min=0,max=100,step=1,value=60,\n",
    "                             layout=Layout(width='70%'))\n",
    "slider_i = widgets.IntSlider(min=0,max=num_frames,step=1,value=25,\n",
    "                             layout=Layout(width='70%'))\n",
    "\n",
    "interact(update,w=slider_w, i=slider_i)"
   ]
  },
  {
   "cell_type": "code",
   "execution_count": null,
   "metadata": {},
   "outputs": [],
   "source": [
    "threshold = 0.6\n",
    "masks = np.zeros(flow_recording.shape[:3],dtype=bool)\n",
    "\n",
    "if recording == \"stack_recordings/episode_118\":\n",
    "    switch_frame = 65\n",
    "elif recording == \"stack_recordings/episode_129\":\n",
    "    switch_frame = 65\n",
    "elif recording == \"stack_recordings/episode_156\":\n",
    "    switch_frame = 80\n",
    "else:\n",
    "    switch_frame = 1e6\n",
    "    \n",
    "for i in range(len(flow_recording)):\n",
    "    if i < switch_frame:\n",
    "        color_index = 2\n",
    "    else:\n",
    "        color_index = 0\n",
    "    mask = get_mask(flow_recording[i], threshold, color_index)\n",
    "    masks[i] = mask\n",
    "\n",
    "print(np.mean(masks) * 100, \"percent of pixels fg\")\n",
    "mask_fn = flow_recording_fn.replace(\"_img.npz\",\"_mask.npz\")\n",
    "np.savez(mask_fn, mask=masks)\n",
    "print(\"Saved to\",mask_fn)"
   ]
  },
  {
   "cell_type": "code",
   "execution_count": null,
   "metadata": {},
   "outputs": [],
   "source": [
    "fig, ax = plt.subplots(1,1)\n",
    "line = ax.imshow(masks[25])\n",
    "ax.set_axis_off()\n",
    "\n",
    "def update(i):\n",
    "    image = flow_recording[i].copy()\n",
    "    mask = masks[i]\n",
    "    image[np.logical_not(mask)] = 255,255,255\n",
    "    line.set_data(image)\n",
    "    fig.canvas.draw_idle()\n",
    "    \n",
    "slider_i2 = widgets.IntSlider(min=0,max=num_frames,step=1,value=25,\n",
    "                             layout=Layout(width='70%'))\n",
    "\n",
    "interact(update, i=slider_i2)"
   ]
  },
  {
   "cell_type": "code",
   "execution_count": null,
   "metadata": {},
   "outputs": [],
   "source": [
    "# This should select a bounding box.\n",
    "\n",
    "index_A = 25\n",
    "index_B = 5\n",
    "\n",
    "fig, ((ax, ax2), (ax3, ax4)) = plt.subplots(2, 2)\n",
    "ax.imshow(flow_recording[index_A])\n",
    "ax.set_axis_off()\n",
    "tmp = flow_recording[index_A].copy()\n",
    "tmp[20:60,35:55] = 255\n",
    "\n",
    "ax2.imshow(tmp)\n",
    "ax2.set_axis_off()\n",
    "\n",
    "ax3.imshow(flow_recording[index_B])\n",
    "\n"
   ]
  },
  {
   "cell_type": "code",
   "execution_count": null,
   "metadata": {},
   "outputs": [],
   "source": []
  }
 ],
 "metadata": {
  "kernelspec": {
   "display_name": "Python 3",
   "language": "python",
   "name": "python3"
  },
  "language_info": {
   "codemirror_mode": {
    "name": "ipython",
    "version": 3
   },
   "file_extension": ".py",
   "mimetype": "text/x-python",
   "name": "python",
   "nbconvert_exporter": "python",
   "pygments_lexer": "ipython3",
   "version": "3.7.0"
  }
 },
 "nbformat": 4,
 "nbformat_minor": 2
}
