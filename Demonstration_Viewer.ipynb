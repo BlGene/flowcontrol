{
 "cells": [
  {
   "cell_type": "code",
   "execution_count": null,
   "metadata": {},
   "outputs": [],
   "source": [
    "%matplotlib notebook\n",
    "from ipywidgets import *\n",
    "import numpy as np\n",
    "import matplotlib.pyplot as plt\n",
    "\n",
    "episode = 2\n",
    "state_recording_fn = \"../flow_control/bolt_recordings/episode_{0}/episode_{0}.npz\"\n",
    "state_recording = np.load(state_recording_fn.format(episode))\n",
    "ee_positions = state_recording[\"ee_positions\"]\n",
    "\n",
    "flow_recording_fn = \"../flow_control/bolt_recordings/episode_{0}/episode_{0}_img.npz\"\n",
    "flow_recording = np.load(flow_recording_fn.format(episode))[\"img\"]\n",
    "\n",
    "num_frames = flow_recording.shape[0]-1\n",
    "\n",
    "\n",
    "x = np.linspace(0, 2 * np.pi)\n",
    "fig, (ax,ax2) = plt.subplots(2,1)\n",
    "line = ax.imshow(flow_recording[0])\n",
    "ax.set_axis_off()\n",
    "\n",
    "#ax2.plot(ee_positions[:,0],label=\"x\")\n",
    "#ax2.plot(ee_positions[:,1],label=\"y\")\n",
    "ax2.plot(ee_positions[:,2],label=\"z\")\n",
    "ax2.set_ylabel(\"z position\")\n",
    "ax2.set_xlabel(\"frame number\")\n",
    "vline = ax2.axvline(x=2,color=\"k\")\n",
    "ax2.legend()\n",
    "\n",
    "def update(w):\n",
    "    vline.set_data([w,w],[0,1])\n",
    "    line.set_data(flow_recording[w])\n",
    "    fig.canvas.draw_idle()\n",
    "    \n",
    "slider_w = widgets.IntSlider(min=0,max=num_frames,step=1,value=0,\n",
    "                             layout=Layout(width='70%'))\n",
    "interact(update,w=slider_w)"
   ]
  },
  {
   "cell_type": "code",
   "execution_count": null,
   "metadata": {},
   "outputs": [],
   "source": [
    "\n",
    "\n",
    "fig, ax = plt.subplots(1,1)\n",
    "line = ax.imshow(flow_recording[25])\n",
    "ax.set_axis_off()\n",
    "\n",
    "def update(w):\n",
    "    vline.set_data([w,w],[0,1])\n",
    "    image = flow_recording[25].copy()\n",
    "    tmp = image[:,:,2] / np.linalg.norm(image,axis=2)\n",
    "    print(tmp.shape)\n",
    "    print(tmp.min(),tmp.max(),w/100)\n",
    "    \n",
    "    mask = tmp > w/100\n",
    "    \n",
    "    image[np.logical_not(mask)] = 255,255,255\n",
    "    #mask_img = np.stack((mask,mask,mask),axis=2)*255\n",
    "    \n",
    "    line.set_data(image)\n",
    "    fig.canvas.draw_idle()\n",
    "    \n",
    "slider_w = widgets.IntSlider(min=0,max=100,step=1,value=0,\n",
    "                             layout=Layout(width='70%'))\n",
    "interact(update,w=slider_w)"
   ]
  },
  {
   "cell_type": "code",
   "execution_count": null,
   "metadata": {},
   "outputs": [],
   "source": [
    "# This should select a bounding box.\n",
    "\n",
    "index_A = 25\n",
    "index_B = 5\n",
    "\n",
    "fig, ((ax, ax2), (ax3, ax4)) = plt.subplots(2, 2)\n",
    "ax.imshow(flow_recording[index_A])\n",
    "ax.set_axis_off()\n",
    "tmp = flow_recording[index_A].copy()\n",
    "tmp[20:60,35:55] = 255\n",
    "\n",
    "ax2.imshow(tmp)\n",
    "ax2.set_axis_off()\n",
    "\n",
    "ax3.imshow(flow_recording[index_B])\n",
    "\n"
   ]
  },
  {
   "cell_type": "code",
   "execution_count": null,
   "metadata": {},
   "outputs": [],
   "source": []
  }
 ],
 "metadata": {
  "kernelspec": {
   "display_name": "Python 3",
   "language": "python",
   "name": "python3"
  },
  "language_info": {
   "codemirror_mode": {
    "name": "ipython",
    "version": 3
   },
   "file_extension": ".py",
   "mimetype": "text/x-python",
   "name": "python",
   "nbconvert_exporter": "python",
   "pygments_lexer": "ipython3",
   "version": "3.6.8"
  }
 },
 "nbformat": 4,
 "nbformat_minor": 2
}
